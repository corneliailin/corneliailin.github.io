{
 "cells": [
  {
   "cell_type": "markdown",
   "metadata": {},
   "source": [
    "references"
   ]
  },
  {
   "cell_type": "markdown",
   "metadata": {},
   "source": [
    "https://www.juanshishido.com/logisticcoefficients.html\n",
    "\n",
    "https://www.datasklr.com/logistic-regression/multinomial-logistic-regression    "
   ]
  },
  {
   "cell_type": "markdown",
   "metadata": {},
   "source": [
    "import libraries"
   ]
  },
  {
   "cell_type": "code",
   "execution_count": 1,
   "metadata": {},
   "outputs": [],
   "source": [
    "import pandas as pd\n",
    "import numpy as np\n",
    "import matplotlib.pyplot as plt\n",
    "import seaborn as sns\n",
    "from sklearn.model_selection import train_test_split\n",
    "from sklearn.linear_model import LogisticRegression\n",
    "import statsmodels.api as sm\n",
    "from mlxtend.plotting import heatmap"
   ]
  },
  {
   "cell_type": "markdown",
   "metadata": {},
   "source": [
    "set working directories"
   ]
  },
  {
   "cell_type": "code",
   "execution_count": 2,
   "metadata": {},
   "outputs": [],
   "source": [
    "in_dir = \"N:/SeedsNRI/private/Cornelia/Research Projects/PriceDispersion/Data4_097_v1/ProofCapacityConstraints/\""
   ]
  },
  {
   "cell_type": "markdown",
   "metadata": {},
   "source": [
    "define functions"
   ]
  },
  {
   "cell_type": "code",
   "execution_count": 3,
   "metadata": {},
   "outputs": [],
   "source": [
    "def model_params_cleaning(df):\n",
    "    \"\"\" Clean param df\n",
    "    # param df: df\n",
    "    # return param df in clean form\n",
    "    \"\"\"\n",
    "    # keep only param for month\n",
    "    df = df.iloc[0, :]\n",
    "    \n",
    "    # transform to df (outcome above is numpy after selection)\n",
    "    df = pd.DataFrame(df)\n",
    "    \n",
    "    # add index as columns\n",
    "    df = df.reset_index()\n",
    "    \n",
    "    # rename vars\n",
    "    df.rename(columns={'index':'companies', 'month':'coef'}, inplace=True)    \n",
    "    \n",
    "    # add 2 to companies column\n",
    "    \n",
    "    return df\n",
    "    df['companies'] = df.companies + 2\n",
    "    return df"
   ]
  },
  {
   "cell_type": "code",
   "execution_count": 4,
   "metadata": {},
   "outputs": [],
   "source": [
    "def model_ci_cleaning(np):\n",
    "    \"\"\" Clean ci df\n",
    "    # param df: df\n",
    "    # return ci df in clean form\n",
    "    \"\"\"\n",
    "    # keep only CIs for month\n",
    "    ci_list = []\n",
    "    for i in range(len(np)):\n",
    "        ci_list.append(np[i][0])\n",
    "    # transform to df\n",
    "    df = pd.DataFrame(ci_list)\n",
    "    \n",
    "    # rename vars\n",
    "    df.columns = ['ci_0', 'ci_1'] \n",
    "    \n",
    "    # add index as column\n",
    "    df = df.reset_index()\n",
    "    \n",
    "    # rename index\n",
    "    df.rename(columns={'index':'companies'}, inplace=True)\n",
    "    \n",
    "\n",
    "    return df"
   ]
  },
  {
   "cell_type": "code",
   "execution_count": 5,
   "metadata": {},
   "outputs": [],
   "source": [
    "def model_error_bar(df):\n",
    "    \"\"\" Calculate the error bar lenghts for ci\n",
    "    # param df: params and ci df\n",
    "    # return params df with added error bar\n",
    "    \"\"\"\n",
    "    error_bar = pd.DataFrame(df.loc[:,'coef'] - df.loc[:,'ci_1'])\n",
    "    error_bar.rename(columns = {0: 'ci_0'}, inplace=True)\n",
    "    \n",
    "    # add params and error_bar to a df\n",
    "    df = pd.concat((df.loc[:, ['companies', 'coef']], error_bar), axis=1)\n",
    "    \n",
    "    return df"
   ]
  },
  {
   "cell_type": "markdown",
   "metadata": {},
   "source": [
    "#### Step 1: Read in data"
   ]
  },
  {
   "cell_type": "code",
   "execution_count": 6,
   "metadata": {},
   "outputs": [],
   "source": [
    "fringe = pd.read_stata(in_dir + 'HoD.dta')\n",
    "core = pd.read_stata(in_dir + 'HeD.dta')"
   ]
  },
  {
   "cell_type": "markdown",
   "metadata": {},
   "source": [
    "#### Step 2: Data preprocessing"
   ]
  },
  {
   "cell_type": "markdown",
   "metadata": {},
   "source": [
    "1) keep only columns of interest"
   ]
  },
  {
   "cell_type": "code",
   "execution_count": 7,
   "metadata": {},
   "outputs": [],
   "source": [
    "columns = ['year',\t'state', 'statename', 'fips', 'panel_no', 'companycode', 'companyname', 'parentcode', 'seed_type',\n",
    "            'IR_single', 'HT_single', 'IR_double', 'IRHT_double', 'IRHT_triple', 'IRHT_quad', 'IRHT_stacked',\n",
    "            'conventional', 'gmo', 'prior_Jan_order', 'post_Jan_order', 'loyal', 'lon', 'lat', 'month', 'crd']\n",
    "fringe = fringe[columns]\n",
    "core =  core[columns]"
   ]
  },
  {
   "cell_type": "code",
   "execution_count": 8,
   "metadata": {},
   "outputs": [],
   "source": [
    "fringe['seed_desc'] = np.where(fringe.conventional==1, 'conventional',\n",
    "                              np.where(fringe.IR_single==1, 'IR_single',\n",
    "                                      np.where(fringe.IR_double==1, 'IR_double',\n",
    "                                              np.where(fringe.IRHT_double==1, 'IRHT_double',\n",
    "                                                      np.where(fringe.IRHT_triple==1, 'IRHT_triple',\n",
    "                                                              np.where(fringe.IRHT_stacked==1, 'IRHT_stacked', 'otherGMO'))))))\n",
    "\n",
    "core['seed_desc'] = np.where(core.conventional==1, 'conventional',\n",
    "                              np.where(core.IR_single==1, 'IR_single',\n",
    "                                      np.where(core.IR_double==1, 'IR_double',\n",
    "                                              np.where(core.IRHT_double==1, 'IRHT_double',\n",
    "                                                      np.where(core.IRHT_triple==1, 'IRHT_triple',\n",
    "                                                              np.where(core.IRHT_stacked==1, 'IRHT_stacked', 'otherGMO'))))))"
   ]
  },
  {
   "cell_type": "markdown",
   "metadata": {},
   "source": [
    "2) construct 2004-2006, 2007-2009, 2004-2009 panels"
   ]
  },
  {
   "cell_type": "code",
   "execution_count": 9,
   "metadata": {},
   "outputs": [],
   "source": [
    "# select year panel and region\n",
    "year = '2004-2006'\n",
    "region = 'fringe'\n",
    "panel = 'yes' # set this to 'no' if no panel is required"
   ]
  },
  {
   "cell_type": "code",
   "execution_count": 10,
   "metadata": {},
   "outputs": [],
   "source": [
    "year_panel = ['2004-2006', '2007-2009', '2004-2009']\n",
    "data_region = ['fringe', 'core']\n",
    "\n",
    "# select based on year\n",
    "if year == year_panel[0]:\n",
    "    fringe1 = fringe[fringe.year.le(2006)]\n",
    "    core1 = core[core.year.le(2006)]\n",
    "elif year == year_panel[1]:\n",
    "    fringe1 = fringe[(fringe.year>=2007) & (fringe.year<=2009)]\n",
    "    core1 = core[(core.year>=2007) & (core.year<=2009)]\n",
    "else:\n",
    "    fringe1 = fringe\n",
    "    core1 = core\n",
    "    \n",
    "# select based on date \n",
    "if region == data_region[0]:\n",
    "    df = fringe1\n",
    "else:\n",
    "    df = core1\n",
    "    print('core1')\n",
    "\n",
    "    \n",
    "# keep only farmers that have obs in year (i.e., transoform data above into panel)\n",
    "if panel == 'yes':\n",
    "    farmer_panel = df.groupby(['panel_no'], as_index=False).agg({'year':'nunique'})\n",
    "    farmer_panel.rename(columns={'year':'nr_years'},inplace=True)\n",
    "    df = df.merge(farmer_panel, on='panel_no', how='left')\n",
    "\n",
    "    # keep if farmer is in all years in year\n",
    "    if year == year_panel[2]:\n",
    "        df = df[df.nr_years==6]\n",
    "    else:\n",
    "        df = df[df.nr_years==3]"
   ]
  },
  {
   "cell_type": "code",
   "execution_count": 11,
   "metadata": {},
   "outputs": [
    {
     "data": {
      "text/html": [
       "<div>\n",
       "<style scoped>\n",
       "    .dataframe tbody tr th:only-of-type {\n",
       "        vertical-align: middle;\n",
       "    }\n",
       "\n",
       "    .dataframe tbody tr th {\n",
       "        vertical-align: top;\n",
       "    }\n",
       "\n",
       "    .dataframe thead th {\n",
       "        text-align: right;\n",
       "    }\n",
       "</style>\n",
       "<table border=\"1\" class=\"dataframe\">\n",
       "  <thead>\n",
       "    <tr style=\"text-align: right;\">\n",
       "      <th></th>\n",
       "      <th>year</th>\n",
       "      <th>state</th>\n",
       "      <th>statename</th>\n",
       "      <th>fips</th>\n",
       "      <th>panel_no</th>\n",
       "      <th>companycode</th>\n",
       "      <th>companyname</th>\n",
       "      <th>parentcode</th>\n",
       "      <th>seed_type</th>\n",
       "      <th>IR_single</th>\n",
       "      <th>...</th>\n",
       "      <th>gmo</th>\n",
       "      <th>prior_Jan_order</th>\n",
       "      <th>post_Jan_order</th>\n",
       "      <th>loyal</th>\n",
       "      <th>lon</th>\n",
       "      <th>lat</th>\n",
       "      <th>month</th>\n",
       "      <th>crd</th>\n",
       "      <th>seed_desc</th>\n",
       "      <th>nr_years</th>\n",
       "    </tr>\n",
       "  </thead>\n",
       "  <tbody>\n",
       "    <tr>\n",
       "      <th>0</th>\n",
       "      <td>2004</td>\n",
       "      <td>27</td>\n",
       "      <td>Minnesota</td>\n",
       "      <td>27019</td>\n",
       "      <td>63</td>\n",
       "      <td>629</td>\n",
       "      <td>PRODUCERS HYBRIDS</td>\n",
       "      <td>5</td>\n",
       "      <td>6</td>\n",
       "      <td>0.0</td>\n",
       "      <td>...</td>\n",
       "      <td>1.0</td>\n",
       "      <td>3.0</td>\n",
       "      <td>0.0</td>\n",
       "      <td>1.0</td>\n",
       "      <td>93.802811</td>\n",
       "      <td>44.821671</td>\n",
       "      <td>10</td>\n",
       "      <td>27050</td>\n",
       "      <td>otherGMO</td>\n",
       "      <td>3</td>\n",
       "    </tr>\n",
       "    <tr>\n",
       "      <th>1</th>\n",
       "      <td>2004</td>\n",
       "      <td>27</td>\n",
       "      <td>Minnesota</td>\n",
       "      <td>27019</td>\n",
       "      <td>63</td>\n",
       "      <td>629</td>\n",
       "      <td>PRODUCERS HYBRIDS</td>\n",
       "      <td>5</td>\n",
       "      <td>6</td>\n",
       "      <td>0.0</td>\n",
       "      <td>...</td>\n",
       "      <td>1.0</td>\n",
       "      <td>3.0</td>\n",
       "      <td>0.0</td>\n",
       "      <td>1.0</td>\n",
       "      <td>93.802811</td>\n",
       "      <td>44.821671</td>\n",
       "      <td>10</td>\n",
       "      <td>27050</td>\n",
       "      <td>otherGMO</td>\n",
       "      <td>3</td>\n",
       "    </tr>\n",
       "  </tbody>\n",
       "</table>\n",
       "<p>2 rows × 27 columns</p>\n",
       "</div>"
      ],
      "text/plain": [
       "   year  state             statename   fips  panel_no  companycode  \\\n",
       "0  2004     27  Minnesota             27019        63          629   \n",
       "1  2004     27  Minnesota             27019        63          629   \n",
       "\n",
       "         companyname  parentcode  seed_type  IR_single  ...  gmo  \\\n",
       "0  PRODUCERS HYBRIDS           5          6        0.0  ...  1.0   \n",
       "1  PRODUCERS HYBRIDS           5          6        0.0  ...  1.0   \n",
       "\n",
       "   prior_Jan_order  post_Jan_order  loyal        lon        lat  month    crd  \\\n",
       "0              3.0             0.0    1.0  93.802811  44.821671     10  27050   \n",
       "1              3.0             0.0    1.0  93.802811  44.821671     10  27050   \n",
       "\n",
       "   seed_desc  nr_years  \n",
       "0   otherGMO         3  \n",
       "1   otherGMO         3  \n",
       "\n",
       "[2 rows x 27 columns]"
      ]
     },
     "execution_count": 11,
     "metadata": {},
     "output_type": "execute_result"
    }
   ],
   "source": [
    "df.head(2)"
   ]
  },
  {
   "cell_type": "markdown",
   "metadata": {},
   "source": [
    "#### 3) add number of companies a farmer does business with (during the time period selected)"
   ]
  },
  {
   "cell_type": "code",
   "execution_count": 12,
   "metadata": {},
   "outputs": [],
   "source": [
    "def helper1(grp):\n",
    "    grp['nr_companies'] = len(np.unique(grp.companycode))\n",
    "    return grp\n",
    "\n",
    "df = df.groupby(['panel_no']).apply(helper1)"
   ]
  },
  {
   "cell_type": "code",
   "execution_count": 13,
   "metadata": {},
   "outputs": [
    {
     "data": {
      "text/html": [
       "<div>\n",
       "<style scoped>\n",
       "    .dataframe tbody tr th:only-of-type {\n",
       "        vertical-align: middle;\n",
       "    }\n",
       "\n",
       "    .dataframe tbody tr th {\n",
       "        vertical-align: top;\n",
       "    }\n",
       "\n",
       "    .dataframe thead th {\n",
       "        text-align: right;\n",
       "    }\n",
       "</style>\n",
       "<table border=\"1\" class=\"dataframe\">\n",
       "  <thead>\n",
       "    <tr style=\"text-align: right;\">\n",
       "      <th></th>\n",
       "      <th>year</th>\n",
       "      <th>state</th>\n",
       "      <th>statename</th>\n",
       "      <th>fips</th>\n",
       "      <th>panel_no</th>\n",
       "      <th>companycode</th>\n",
       "      <th>companyname</th>\n",
       "      <th>parentcode</th>\n",
       "      <th>seed_type</th>\n",
       "      <th>IR_single</th>\n",
       "      <th>...</th>\n",
       "      <th>prior_Jan_order</th>\n",
       "      <th>post_Jan_order</th>\n",
       "      <th>loyal</th>\n",
       "      <th>lon</th>\n",
       "      <th>lat</th>\n",
       "      <th>month</th>\n",
       "      <th>crd</th>\n",
       "      <th>seed_desc</th>\n",
       "      <th>nr_years</th>\n",
       "      <th>nr_companies</th>\n",
       "    </tr>\n",
       "  </thead>\n",
       "  <tbody>\n",
       "    <tr>\n",
       "      <th>0</th>\n",
       "      <td>2004</td>\n",
       "      <td>27</td>\n",
       "      <td>Minnesota</td>\n",
       "      <td>27019</td>\n",
       "      <td>63</td>\n",
       "      <td>629</td>\n",
       "      <td>PRODUCERS HYBRIDS</td>\n",
       "      <td>5</td>\n",
       "      <td>6</td>\n",
       "      <td>0.0</td>\n",
       "      <td>...</td>\n",
       "      <td>3.0</td>\n",
       "      <td>0.0</td>\n",
       "      <td>1.0</td>\n",
       "      <td>93.802811</td>\n",
       "      <td>44.821671</td>\n",
       "      <td>10</td>\n",
       "      <td>27050</td>\n",
       "      <td>otherGMO</td>\n",
       "      <td>3</td>\n",
       "      <td>1</td>\n",
       "    </tr>\n",
       "    <tr>\n",
       "      <th>1</th>\n",
       "      <td>2004</td>\n",
       "      <td>27</td>\n",
       "      <td>Minnesota</td>\n",
       "      <td>27019</td>\n",
       "      <td>63</td>\n",
       "      <td>629</td>\n",
       "      <td>PRODUCERS HYBRIDS</td>\n",
       "      <td>5</td>\n",
       "      <td>6</td>\n",
       "      <td>0.0</td>\n",
       "      <td>...</td>\n",
       "      <td>3.0</td>\n",
       "      <td>0.0</td>\n",
       "      <td>1.0</td>\n",
       "      <td>93.802811</td>\n",
       "      <td>44.821671</td>\n",
       "      <td>10</td>\n",
       "      <td>27050</td>\n",
       "      <td>otherGMO</td>\n",
       "      <td>3</td>\n",
       "      <td>1</td>\n",
       "    </tr>\n",
       "  </tbody>\n",
       "</table>\n",
       "<p>2 rows × 28 columns</p>\n",
       "</div>"
      ],
      "text/plain": [
       "   year  state             statename   fips  panel_no  companycode  \\\n",
       "0  2004     27  Minnesota             27019        63          629   \n",
       "1  2004     27  Minnesota             27019        63          629   \n",
       "\n",
       "         companyname  parentcode  seed_type  IR_single  ...  prior_Jan_order  \\\n",
       "0  PRODUCERS HYBRIDS           5          6        0.0  ...              3.0   \n",
       "1  PRODUCERS HYBRIDS           5          6        0.0  ...              3.0   \n",
       "\n",
       "   post_Jan_order  loyal        lon        lat  month    crd  seed_desc  \\\n",
       "0             0.0    1.0  93.802811  44.821671     10  27050   otherGMO   \n",
       "1             0.0    1.0  93.802811  44.821671     10  27050   otherGMO   \n",
       "\n",
       "   nr_years  nr_companies  \n",
       "0         3             1  \n",
       "1         3             1  \n",
       "\n",
       "[2 rows x 28 columns]"
      ]
     },
     "execution_count": 13,
     "metadata": {},
     "output_type": "execute_result"
    }
   ],
   "source": [
    "df.head(2)"
   ]
  },
  {
   "cell_type": "markdown",
   "metadata": {},
   "source": [
    "#### Step 3: Summary statistics"
   ]
  },
  {
   "cell_type": "markdown",
   "metadata": {},
   "source": [
    "1) Average number of orders"
   ]
  },
  {
   "cell_type": "code",
   "execution_count": 14,
   "metadata": {},
   "outputs": [
    {
     "name": "stdout",
     "output_type": "stream",
     "text": [
      "average # of orders in fringe: 4.224709325318358\n",
      "average # of orders in core: 5.243809362279512\n"
     ]
    }
   ],
   "source": [
    "# average number of orders\n",
    "fringe['counts'] = 1\n",
    "core['counts'] = 1\n",
    "print('average # of orders in fringe:', fringe.groupby(['year', 'panel_no'], as_index=False)['counts'].count()['counts'].mean())\n",
    "print('average # of orders in core:', core.groupby(['year', 'panel_no'], as_index=False)['counts'].count()['counts'].mean())"
   ]
  },
  {
   "cell_type": "markdown",
   "metadata": {},
   "source": [
    "2) average number of seeds"
   ]
  },
  {
   "cell_type": "code",
   "execution_count": 15,
   "metadata": {},
   "outputs": [
    {
     "name": "stdout",
     "output_type": "stream",
     "text": [
      "average # of seed types in fringe: 2.2921774895198923\n",
      "average # of seed types in core: 2.6183005427408412\n"
     ]
    }
   ],
   "source": [
    "# average number of seeds\n",
    "temp = fringe.groupby(['year', 'panel_no','seed_type'], as_index=False)['counts'].count()\n",
    "print('average # of seed types in fringe:',temp.groupby(['year', 'panel_no'], as_index=False)['seed_type'].count()['seed_type'].mean())\n",
    "\n",
    "temp = core.groupby(['year', 'panel_no','seed_type'], as_index=False)['counts'].count()\n",
    "print('average # of seed types in core:', temp.groupby(['year', 'panel_no'], as_index=False)['seed_type'].count()['seed_type'].mean())"
   ]
  },
  {
   "cell_type": "markdown",
   "metadata": {},
   "source": [
    "3) unique farmers by number of companies"
   ]
  },
  {
   "cell_type": "code",
   "execution_count": 16,
   "metadata": {},
   "outputs": [
    {
     "data": {
      "text/html": [
       "<div>\n",
       "<style scoped>\n",
       "    .dataframe tbody tr th:only-of-type {\n",
       "        vertical-align: middle;\n",
       "    }\n",
       "\n",
       "    .dataframe tbody tr th {\n",
       "        vertical-align: top;\n",
       "    }\n",
       "\n",
       "    .dataframe thead th {\n",
       "        text-align: right;\n",
       "    }\n",
       "</style>\n",
       "<table border=\"1\" class=\"dataframe\">\n",
       "  <thead>\n",
       "    <tr style=\"text-align: right;\">\n",
       "      <th></th>\n",
       "      <th>nr_companies</th>\n",
       "      <th>panel_no</th>\n",
       "      <th>share</th>\n",
       "    </tr>\n",
       "  </thead>\n",
       "  <tbody>\n",
       "    <tr>\n",
       "      <th>0</th>\n",
       "      <td>1</td>\n",
       "      <td>117</td>\n",
       "      <td>0.323204</td>\n",
       "    </tr>\n",
       "    <tr>\n",
       "      <th>1</th>\n",
       "      <td>2</td>\n",
       "      <td>110</td>\n",
       "      <td>0.303867</td>\n",
       "    </tr>\n",
       "    <tr>\n",
       "      <th>2</th>\n",
       "      <td>3</td>\n",
       "      <td>58</td>\n",
       "      <td>0.160221</td>\n",
       "    </tr>\n",
       "    <tr>\n",
       "      <th>3</th>\n",
       "      <td>4</td>\n",
       "      <td>43</td>\n",
       "      <td>0.118785</td>\n",
       "    </tr>\n",
       "    <tr>\n",
       "      <th>4</th>\n",
       "      <td>5</td>\n",
       "      <td>17</td>\n",
       "      <td>0.046961</td>\n",
       "    </tr>\n",
       "    <tr>\n",
       "      <th>5</th>\n",
       "      <td>6</td>\n",
       "      <td>16</td>\n",
       "      <td>0.044199</td>\n",
       "    </tr>\n",
       "    <tr>\n",
       "      <th>6</th>\n",
       "      <td>7</td>\n",
       "      <td>1</td>\n",
       "      <td>0.002762</td>\n",
       "    </tr>\n",
       "  </tbody>\n",
       "</table>\n",
       "</div>"
      ],
      "text/plain": [
       "   nr_companies  panel_no     share\n",
       "0             1       117  0.323204\n",
       "1             2       110  0.303867\n",
       "2             3        58  0.160221\n",
       "3             4        43  0.118785\n",
       "4             5        17  0.046961\n",
       "5             6        16  0.044199\n",
       "6             7         1  0.002762"
      ]
     },
     "execution_count": 16,
     "metadata": {},
     "output_type": "execute_result"
    }
   ],
   "source": [
    "# number unique farmers who buy from 1, 2, 3,... companies\n",
    "plt1 =df.groupby(['nr_companies'],as_index=False).agg({'panel_no': 'nunique'})\n",
    "plt1['share'] = plt1.panel_no/df.panel_no.nunique()\n",
    "plt1.head(20)"
   ]
  },
  {
   "cell_type": "code",
   "execution_count": 17,
   "metadata": {},
   "outputs": [
    {
     "data": {
      "text/plain": [
       "Text(0, 0.5, 'number of farmers')"
      ]
     },
     "execution_count": 17,
     "metadata": {},
     "output_type": "execute_result"
    },
    {
     "data": {
      "image/png": "[encoded data removed]",
      "text/plain": [
       "<Figure size 432x288 with 1 Axes>"
      ]
     },
     "metadata": {
      "needs_background": "light"
     },
     "output_type": "display_data"
    }
   ],
   "source": [
    "ax = sns.barplot(x=\"nr_companies\", y=\"panel_no\", data=plt1, color='darkkhaki')\n",
    "\n",
    "ax.spines[\"top\"].set_visible(False)\n",
    "ax.spines[\"right\"].set_visible(False)\n",
    "ax.spines[\"left\"].set_visible(False)\n",
    "ax.spines['bottom'].set_color('dimgrey')\n",
    "\n",
    "ax.set_title('Total farmers: ' + str(len(df.panel_no.unique())))\n",
    "ax.set_xlabel('total companies')\n",
    "ax.set_ylabel('number of farmers')\n",
    "#ax.set_ylim(0, 130)"
   ]
  },
  {
   "cell_type": "markdown",
   "metadata": {},
   "source": [
    "3) unique farmers by number of companies and loyal status"
   ]
  },
  {
   "cell_type": "code",
   "execution_count": 18,
   "metadata": {},
   "outputs": [
    {
     "data": {
      "text/html": [
       "<div>\n",
       "<style scoped>\n",
       "    .dataframe tbody tr th:only-of-type {\n",
       "        vertical-align: middle;\n",
       "    }\n",
       "\n",
       "    .dataframe tbody tr th {\n",
       "        vertical-align: top;\n",
       "    }\n",
       "\n",
       "    .dataframe thead th {\n",
       "        text-align: right;\n",
       "    }\n",
       "</style>\n",
       "<table border=\"1\" class=\"dataframe\">\n",
       "  <thead>\n",
       "    <tr style=\"text-align: right;\">\n",
       "      <th></th>\n",
       "      <th>total companies</th>\n",
       "      <th>order time</th>\n",
       "      <th>number of farmers</th>\n",
       "    </tr>\n",
       "  </thead>\n",
       "  <tbody>\n",
       "    <tr>\n",
       "      <th>1</th>\n",
       "      <td>1</td>\n",
       "      <td>Aug-Dec</td>\n",
       "      <td>105</td>\n",
       "    </tr>\n",
       "    <tr>\n",
       "      <th>0</th>\n",
       "      <td>1</td>\n",
       "      <td>Jan-July</td>\n",
       "      <td>52</td>\n",
       "    </tr>\n",
       "    <tr>\n",
       "      <th>3</th>\n",
       "      <td>2</td>\n",
       "      <td>Aug-Dec</td>\n",
       "      <td>94</td>\n",
       "    </tr>\n",
       "    <tr>\n",
       "      <th>2</th>\n",
       "      <td>2</td>\n",
       "      <td>Jan-July</td>\n",
       "      <td>46</td>\n",
       "    </tr>\n",
       "    <tr>\n",
       "      <th>5</th>\n",
       "      <td>3</td>\n",
       "      <td>Aug-Dec</td>\n",
       "      <td>50</td>\n",
       "    </tr>\n",
       "    <tr>\n",
       "      <th>4</th>\n",
       "      <td>3</td>\n",
       "      <td>Jan-July</td>\n",
       "      <td>23</td>\n",
       "    </tr>\n",
       "    <tr>\n",
       "      <th>7</th>\n",
       "      <td>4</td>\n",
       "      <td>Aug-Dec</td>\n",
       "      <td>31</td>\n",
       "    </tr>\n",
       "    <tr>\n",
       "      <th>6</th>\n",
       "      <td>4</td>\n",
       "      <td>Jan-July</td>\n",
       "      <td>27</td>\n",
       "    </tr>\n",
       "    <tr>\n",
       "      <th>9</th>\n",
       "      <td>5</td>\n",
       "      <td>Aug-Dec</td>\n",
       "      <td>15</td>\n",
       "    </tr>\n",
       "    <tr>\n",
       "      <th>8</th>\n",
       "      <td>5</td>\n",
       "      <td>Jan-July</td>\n",
       "      <td>7</td>\n",
       "    </tr>\n",
       "    <tr>\n",
       "      <th>11</th>\n",
       "      <td>6</td>\n",
       "      <td>Aug-Dec</td>\n",
       "      <td>14</td>\n",
       "    </tr>\n",
       "    <tr>\n",
       "      <th>10</th>\n",
       "      <td>6</td>\n",
       "      <td>Jan-July</td>\n",
       "      <td>9</td>\n",
       "    </tr>\n",
       "    <tr>\n",
       "      <th>13</th>\n",
       "      <td>7</td>\n",
       "      <td>Aug-Dec</td>\n",
       "      <td>1</td>\n",
       "    </tr>\n",
       "    <tr>\n",
       "      <th>12</th>\n",
       "      <td>7</td>\n",
       "      <td>Jan-July</td>\n",
       "      <td>1</td>\n",
       "    </tr>\n",
       "  </tbody>\n",
       "</table>\n",
       "</div>"
      ],
      "text/plain": [
       "    total companies order time  number of farmers\n",
       "1                 1    Aug-Dec                105\n",
       "0                 1   Jan-July                 52\n",
       "3                 2    Aug-Dec                 94\n",
       "2                 2   Jan-July                 46\n",
       "5                 3    Aug-Dec                 50\n",
       "4                 3   Jan-July                 23\n",
       "7                 4    Aug-Dec                 31\n",
       "6                 4   Jan-July                 27\n",
       "9                 5    Aug-Dec                 15\n",
       "8                 5   Jan-July                  7\n",
       "11                6    Aug-Dec                 14\n",
       "10                6   Jan-July                  9\n",
       "13                7    Aug-Dec                  1\n",
       "12                7   Jan-July                  1"
      ]
     },
     "execution_count": 18,
     "metadata": {},
     "output_type": "execute_result"
    }
   ],
   "source": [
    "# number unique farmers who buy from 1, 2, 3,... companies, by loyal status (aug-dec vs. jan-july)\n",
    "plt2 =df.groupby(['nr_companies', 'loyal'],as_index=False).agg({'panel_no': 'nunique'})\n",
    "plt2.rename(columns={'loyal':'order time', 'nr_companies': 'total companies', 'panel_no': 'number of farmers'}, inplace=True)\n",
    "plt2['order time'] = np.where(plt2['order time']==1, \"Aug-Dec\", 'Jan-July')\n",
    "plt2.sort_values(by=['total companies','order time'], ascending=True, inplace=True)\n",
    "plt2.head(20)"
   ]
  },
  {
   "cell_type": "code",
   "execution_count": 19,
   "metadata": {},
   "outputs": [
    {
     "data": {
      "text/plain": [
       "<seaborn.axisgrid.FacetGrid at 0x20bc4d67cc0>"
      ]
     },
     "execution_count": 19,
     "metadata": {},
     "output_type": "execute_result"
    },
    {
     "data": {
      "image/png": "[encoded data removed]",
      "text/plain": [
       "<Figure size 1080x360 with 7 Axes>"
      ]
     },
     "metadata": {
      "needs_background": "light"
     },
     "output_type": "display_data"
    }
   ],
   "source": [
    "g = sns.catplot(x=\"order time\", y=\"number of farmers\", col='total companies',col_wrap=5, data=plt2,\n",
    "                kind=\"bar\",  ci=None, aspect=1.2, height=2.5, palette=['darkkhaki', 'grey'], legend=True, sharex=False);\n",
    "g.set_axis_labels(\"\", \"number of farmers\")"
   ]
  },
  {
   "cell_type": "markdown",
   "metadata": {},
   "source": [
    "4) unique farmers by number of companies, loyal status and type of seed"
   ]
  },
  {
   "cell_type": "code",
   "execution_count": 20,
   "metadata": {},
   "outputs": [
    {
     "data": {
      "text/html": [
       "<div>\n",
       "<style scoped>\n",
       "    .dataframe tbody tr th:only-of-type {\n",
       "        vertical-align: middle;\n",
       "    }\n",
       "\n",
       "    .dataframe tbody tr th {\n",
       "        vertical-align: top;\n",
       "    }\n",
       "\n",
       "    .dataframe thead th {\n",
       "        text-align: right;\n",
       "    }\n",
       "</style>\n",
       "<table border=\"1\" class=\"dataframe\">\n",
       "  <thead>\n",
       "    <tr style=\"text-align: right;\">\n",
       "      <th></th>\n",
       "      <th>total companies</th>\n",
       "      <th>order time</th>\n",
       "      <th>seed type</th>\n",
       "      <th>number of farmers</th>\n",
       "    </tr>\n",
       "  </thead>\n",
       "  <tbody>\n",
       "    <tr>\n",
       "      <th>6</th>\n",
       "      <td>1</td>\n",
       "      <td>Aug-Dec</td>\n",
       "      <td>IRHT_double</td>\n",
       "      <td>42</td>\n",
       "    </tr>\n",
       "    <tr>\n",
       "      <th>7</th>\n",
       "      <td>1</td>\n",
       "      <td>Aug-Dec</td>\n",
       "      <td>IRHT_triple</td>\n",
       "      <td>14</td>\n",
       "    </tr>\n",
       "    <tr>\n",
       "      <th>8</th>\n",
       "      <td>1</td>\n",
       "      <td>Aug-Dec</td>\n",
       "      <td>IR_double</td>\n",
       "      <td>4</td>\n",
       "    </tr>\n",
       "    <tr>\n",
       "      <th>9</th>\n",
       "      <td>1</td>\n",
       "      <td>Aug-Dec</td>\n",
       "      <td>IR_single</td>\n",
       "      <td>39</td>\n",
       "    </tr>\n",
       "    <tr>\n",
       "      <th>10</th>\n",
       "      <td>1</td>\n",
       "      <td>Aug-Dec</td>\n",
       "      <td>conventional</td>\n",
       "      <td>85</td>\n",
       "    </tr>\n",
       "  </tbody>\n",
       "</table>\n",
       "</div>"
      ],
      "text/plain": [
       "    total companies order time     seed type  number of farmers\n",
       "6                 1    Aug-Dec   IRHT_double                 42\n",
       "7                 1    Aug-Dec   IRHT_triple                 14\n",
       "8                 1    Aug-Dec     IR_double                  4\n",
       "9                 1    Aug-Dec     IR_single                 39\n",
       "10                1    Aug-Dec  conventional                 85"
      ]
     },
     "execution_count": 20,
     "metadata": {},
     "output_type": "execute_result"
    }
   ],
   "source": [
    "# number unique farmers who buy from 1, 2, 3,... companies, by loyal status (aug-dec vs. jan-july) and type of seed\n",
    "plt3 =df.groupby(['nr_companies', 'loyal', 'seed_desc'],as_index=False).agg({'panel_no': 'nunique'})\n",
    "plt3.rename(columns={'loyal':'order time', 'nr_companies': 'total companies', 'panel_no': 'number of farmers', 'seed_desc':'seed type'}, inplace=True)\n",
    "plt3['order time'] = np.where(plt3['order time']==1, \"Aug-Dec\", 'Jan-July')\n",
    "plt3.sort_values(by=['total companies','order time', 'seed type'], ascending=True, inplace=True)\n",
    "plt3.head()"
   ]
  },
  {
   "cell_type": "code",
   "execution_count": 21,
   "metadata": {},
   "outputs": [
    {
     "data": {
      "text/plain": [
       "<seaborn.axisgrid.FacetGrid at 0x20bc55af908>"
      ]
     },
     "execution_count": 21,
     "metadata": {},
     "output_type": "execute_result"
    },
    {
     "data": {
      "image/png": "[encoded data removed]",
      "text/plain": [
       "<Figure size 1699x648 with 7 Axes>"
      ]
     },
     "metadata": {
      "needs_background": "light"
     },
     "output_type": "display_data"
    }
   ],
   "source": [
    "g = sns.catplot(x=\"seed type\", y=\"number of farmers\", hue=\"order time\", col='total companies',col_wrap=3,data=plt3,\n",
    "                kind=\"bar\", ci=None, aspect=2.5, height=3, palette=['darkkhaki', 'grey'], legend=True, sharex=False)\n",
    "g.set_axis_labels(\"\", \"number of farmers\")"
   ]
  },
  {
   "cell_type": "markdown",
   "metadata": {},
   "source": [
    "5) other stats"
   ]
  },
  {
   "cell_type": "code",
   "execution_count": 22,
   "metadata": {},
   "outputs": [
    {
     "data": {
      "text/html": [
       "<div>\n",
       "<style scoped>\n",
       "    .dataframe tbody tr th:only-of-type {\n",
       "        vertical-align: middle;\n",
       "    }\n",
       "\n",
       "    .dataframe tbody tr th {\n",
       "        vertical-align: top;\n",
       "    }\n",
       "\n",
       "    .dataframe thead th {\n",
       "        text-align: right;\n",
       "    }\n",
       "</style>\n",
       "<table border=\"1\" class=\"dataframe\">\n",
       "  <thead>\n",
       "    <tr style=\"text-align: right;\">\n",
       "      <th></th>\n",
       "      <th>total companies</th>\n",
       "      <th>year</th>\n",
       "      <th>unique companies per year</th>\n",
       "      <th>panel_no</th>\n",
       "    </tr>\n",
       "  </thead>\n",
       "  <tbody>\n",
       "    <tr>\n",
       "      <th>0</th>\n",
       "      <td>1</td>\n",
       "      <td>2004</td>\n",
       "      <td>1</td>\n",
       "      <td>117</td>\n",
       "    </tr>\n",
       "    <tr>\n",
       "      <th>1</th>\n",
       "      <td>1</td>\n",
       "      <td>2005</td>\n",
       "      <td>1</td>\n",
       "      <td>117</td>\n",
       "    </tr>\n",
       "    <tr>\n",
       "      <th>2</th>\n",
       "      <td>1</td>\n",
       "      <td>2006</td>\n",
       "      <td>1</td>\n",
       "      <td>117</td>\n",
       "    </tr>\n",
       "    <tr>\n",
       "      <th>3</th>\n",
       "      <td>2</td>\n",
       "      <td>2004</td>\n",
       "      <td>1</td>\n",
       "      <td>50</td>\n",
       "    </tr>\n",
       "    <tr>\n",
       "      <th>4</th>\n",
       "      <td>2</td>\n",
       "      <td>2004</td>\n",
       "      <td>2</td>\n",
       "      <td>60</td>\n",
       "    </tr>\n",
       "  </tbody>\n",
       "</table>\n",
       "</div>"
      ],
      "text/plain": [
       "   total companies  year  unique companies per year  panel_no\n",
       "0                1  2004                          1       117\n",
       "1                1  2005                          1       117\n",
       "2                1  2006                          1       117\n",
       "3                2  2004                          1        50\n",
       "4                2  2004                          2        60"
      ]
     },
     "execution_count": 22,
     "metadata": {},
     "output_type": "execute_result"
    }
   ],
   "source": [
    "## those that bought from 2, 3... companies, did they buy from the same # of companies every year, or the behavior changed over time?\n",
    "#number of companies per year\n",
    "plt4 = df.groupby(['nr_companies', 'panel_no', 'year'], as_index=False).agg({'companycode':'nunique'})\n",
    "plt4.rename(columns={'companycode': 'unique companies per year', 'nr_companies': 'total companies'}, inplace=True)\n",
    "\n",
    "# example: bougth from 2 companies in 3 year panel: stats by year, number of farmers who bought from 1 company vs 2 companies \n",
    "plt4 = plt4.groupby(['total companies', 'year', 'unique companies per year'], as_index=False).agg({'panel_no': 'nunique'})\n",
    "plt4.head()"
   ]
  },
  {
   "cell_type": "code",
   "execution_count": 23,
   "metadata": {},
   "outputs": [
    {
     "data": {
      "text/plain": [
       "<seaborn.axisgrid.FacetGrid at 0x20bc55ac240>"
      ]
     },
     "execution_count": 23,
     "metadata": {},
     "output_type": "execute_result"
    },
    {
     "data": {
      "image/png": "[encoded data removed]",
      "text/plain": [
       "<Figure size 1224.38x360 with 7 Axes>"
      ]
     },
     "metadata": {
      "needs_background": "light"
     },
     "output_type": "display_data"
    }
   ],
   "source": [
    "g = sns.catplot(x=\"year\", y=\"panel_no\", hue=\"unique companies per year\", col='total companies',col_wrap=5, data=plt4,\n",
    "                kind=\"bar\",  ci=None, aspect=1.2, height=2.5, legend=True, sharex=False);\n",
    "g.set_axis_labels(\"\", \"number of farmers\")"
   ]
  },
  {
   "cell_type": "markdown",
   "metadata": {},
   "source": [
    "6) correlation coefficient between #of companies=1 and order before Dec"
   ]
  },
  {
   "cell_type": "code",
   "execution_count": 24,
   "metadata": {},
   "outputs": [
    {
     "data": {
      "image/png": "[encoded data removed]",
      "text/plain": [
       "<Figure size 432x288 with 2 Axes>"
      ]
     },
     "metadata": {
      "needs_background": "light"
     },
     "output_type": "display_data"
    }
   ],
   "source": [
    "df['companies_is_1'] = np.where(df.nr_companies==1, 1, 0)\n",
    "# let's add all mobility measures now\n",
    "features = ['loyal', 'companies_is_1']\n",
    "cm = df[features].corr().values\n",
    "hm = heatmap(cm, row_names=features, column_names=features)"
   ]
  },
  {
   "cell_type": "markdown",
   "metadata": {},
   "source": [
    "#### Step 4: Regression Analysis"
   ]
  },
  {
   "cell_type": "markdown",
   "metadata": {},
   "source": [
    "1) linear probability model"
   ]
  },
  {
   "cell_type": "code",
   "execution_count": 25,
   "metadata": {},
   "outputs": [
    {
     "name": "stdout",
     "output_type": "stream",
     "text": [
      "                                 OLS Regression Results                                \n",
      "=======================================================================================\n",
      "Dep. Variable:          nr_companies2   R-squared (uncentered):                   0.380\n",
      "Model:                            OLS   Adj. R-squared (uncentered):              0.372\n",
      "Method:                 Least Squares   F-statistic:                          2.198e+14\n",
      "Date:                Tue, 14 Jul 2020   Prob (F-statistic):                        0.00\n",
      "Time:                        01:31:12   Log-Likelihood:                         -2080.2\n",
      "No. Observations:                4173   AIC:                                      4268.\n",
      "Df Residuals:                    4119   BIC:                                      4611.\n",
      "Df Model:                          54                                                  \n",
      "Covariance Type:              cluster                                                  \n",
      "==============================================================================\n",
      "                 coef    std err          z      P>|z|      [0.025      0.975]\n",
      "------------------------------------------------------------------------------\n",
      "loyal          0.0481      0.049      0.985      0.325      -0.048       0.144\n",
      "8060           0.2169      0.034      6.454      0.000       0.151       0.283\n",
      "17080          0.2994      0.039      7.628      0.000       0.222       0.376\n",
      "17090          0.0332      0.041      0.810      0.418      -0.047       0.113\n",
      "18020          0.3387      0.035      9.553      0.000       0.269       0.408\n",
      "18030          0.2678      0.042      6.345      0.000       0.185       0.351\n",
      "18050          0.2227      0.028      8.048      0.000       0.168       0.277\n",
      "18080          0.4097      0.026     16.062      0.000       0.360       0.460\n",
      "18090          0.1050      0.027      3.886      0.000       0.052       0.158\n",
      "20010          0.4933      0.026     18.740      0.000       0.442       0.545\n",
      "20040          0.9519      0.049     19.471      0.000       0.856       1.048\n",
      "20070          0.1975      0.023      8.512      0.000       0.152       0.243\n",
      "20080          0.2122      0.047      4.562      0.000       0.121       0.303\n",
      "21020          0.4759      0.024     19.471      0.000       0.428       0.524\n",
      "26050          0.4706      0.039     12.032      0.000       0.394       0.547\n",
      "26060          0.2585      0.025     10.233      0.000       0.209       0.308\n",
      "26070          0.2115      0.030      6.970      0.000       0.152       0.271\n",
      "26080          0.5968      0.036     16.388      0.000       0.525       0.668\n",
      "26090         -0.0443      0.045     -0.985      0.325      -0.133       0.044\n",
      "27040          0.1643      0.042      3.925      0.000       0.082       0.246\n",
      "27050          0.0908      0.041      2.209      0.027       0.010       0.171\n",
      "27060          0.9519      0.049     19.471      0.000       0.856       1.048\n",
      "27070          0.2820      0.031      8.998      0.000       0.221       0.343\n",
      "27080          0.2791      0.037      7.538      0.000       0.207       0.352\n",
      "27090          0.0864      0.032      2.664      0.008       0.023       0.150\n",
      "29040         -0.0441      0.045     -0.985      0.325      -0.132       0.044\n",
      "29050          0.0947      0.049      1.937      0.053      -0.001       0.191\n",
      "29060          0.2380      0.012     19.471      0.000       0.214       0.262\n",
      "31010          0.3594      0.026     14.056      0.000       0.309       0.410\n",
      "31020          0.9519      0.049     19.471      0.000       0.856       1.048\n",
      "31050          0.1973      0.027      7.308      0.000       0.144       0.250\n",
      "31070          0.0564      0.029      1.937      0.053      -0.001       0.114\n",
      "31080          0.4774      0.040     11.800      0.000       0.398       0.557\n",
      "38090          0.2704      0.043      6.321      0.000       0.187       0.354\n",
      "39010          0.1482      0.044      3.384      0.001       0.062       0.234\n",
      "39020          0.2841      0.037      7.683      0.000       0.212       0.357\n",
      "39030          0.2423      0.035      6.857      0.000       0.173       0.312\n",
      "39040          0.4582      0.038     11.902      0.000       0.383       0.534\n",
      "39050          0.2327      0.044      5.309      0.000       0.147       0.319\n",
      "39060          0.7019      0.049     14.357      0.000       0.606       0.798\n",
      "39070         -0.0415      0.042     -0.985      0.325      -0.124       0.041\n",
      "39090          0.6376      0.018     34.590      0.000       0.601       0.674\n",
      "46020         -0.0436      0.044     -0.985      0.325      -0.130       0.043\n",
      "46030         -0.0245      0.025     -0.985      0.325      -0.073       0.024\n",
      "46050          0.3504      0.045      7.782      0.000       0.262       0.439\n",
      "46060          0.0185      0.047      0.397      0.691      -0.073       0.110\n",
      "55010          0.2377      0.041      5.834      0.000       0.158       0.318\n",
      "55020          0.1540      0.032      4.860      0.000       0.092       0.216\n",
      "55030       1.786e-16   1.81e-16      0.984      0.325   -1.77e-16    5.34e-16\n",
      "55040          0.0989      0.036      2.765      0.006       0.029       0.169\n",
      "55050          0.0948      0.042      2.245      0.025       0.012       0.178\n",
      "55060          0.1158      0.044      2.625      0.009       0.029       0.202\n",
      "55070          0.1483      0.032      4.686      0.000       0.086       0.210\n",
      "55080          0.4634      0.037     12.473      0.000       0.391       0.536\n",
      "==============================================================================\n",
      "Omnibus:                      489.105   Durbin-Watson:                   0.221\n",
      "Prob(Omnibus):                  0.000   Jarque-Bera (JB):              658.889\n",
      "Skew:                           0.962   Prob(JB):                    8.40e-144\n",
      "Kurtosis:                       2.698   Cond. No.                         25.5\n",
      "==============================================================================\n",
      "\n",
      "Warnings:\n",
      "[1] Standard Errors are robust to cluster correlation (cluster)\n",
      "(yhat_loyal - yhat_notloyal) =  0.03279971629597922\n",
      "(yhat_loyal - yhat_notloyal)/yhat_notloyal =  0.14255360672277467\n"
     ]
    },
    {
     "name": "stderr",
     "output_type": "stream",
     "text": [
      "C:\\Users\\cilin\\AppData\\Local\\Continuum\\anaconda3\\lib\\site-packages\\statsmodels\\base\\model.py:1752: ValueWarning: covariance of constraints does not have full rank. The number of constraints is 54, but rank is 17\n",
      "  'rank is %d' % (J, J_), ValueWarning)\n"
     ]
    }
   ],
   "source": [
    "# create dependent variable\n",
    "#df_temp = df[(df.nr_companies==1) | (df.nr_companies==2)]\n",
    "df['nr_companies2'] = np.where(df.nr_companies==1, 1, 0)\n",
    "y = df[\"nr_companies2\"]\n",
    "\n",
    "# create explanatory variables\n",
    "X = df[['loyal']]\n",
    "\n",
    "# create dummy variables     \n",
    "crd_fe = pd.get_dummies(df[\"crd\"], drop_first = True) \n",
    "\n",
    "# join explanatory and dummy variables\n",
    "X = X.join(crd_fe)\n",
    "\n",
    "# fit the model\n",
    "model = sm.OLS(y, X).fit(cov_type ='cluster', cov_kwds={'groups':df['crd']}) \n",
    "print(model.summary())\n",
    "\n",
    "# get predictions (all)\n",
    "yhat = pd.DataFrame(model.predict(X))\n",
    "\n",
    "# get predictions (loyal=1)\n",
    "yhat_loyal = pd.concat([X.iloc[:,0], yhat], axis=1)\n",
    "yhat_loyal = yhat_loyal[yhat_loyal.loyal==1]\n",
    "yhat_loyal.rename(columns = {0: 'yhat'}, inplace=True)\n",
    "\n",
    "# get predictions (loyal = 0)\n",
    "yhat_notloyal = pd.concat([X.iloc[:,0], yhat], axis=1)\n",
    "yhat_notloyal = yhat_notloyal[yhat_notloyal.loyal==0]\n",
    "yhat_notloyal.rename(columns = {0: 'yhat'}, inplace=True)\n",
    "\n",
    "# print results\n",
    "print('(yhat_loyal - yhat_notloyal) = ', yhat_loyal.yhat.mean()- yhat_notloyal.yhat.mean())\n",
    "print('(yhat_loyal - yhat_notloyal)/yhat_notloyal = ', (yhat_loyal.yhat.mean()- yhat_notloyal.yhat.mean())/yhat_notloyal.yhat.mean())"
   ]
  },
  {
   "cell_type": "markdown",
   "metadata": {},
   "source": [
    "2) multinomial logistic regression"
   ]
  },
  {
   "cell_type": "code",
   "execution_count": 26,
   "metadata": {},
   "outputs": [
    {
     "name": "stdout",
     "output_type": "stream",
     "text": [
      "Prediction performance on train 0.45464601769911506\n",
      "Prediction performance on test 0.44216290212183434\n",
      "Warning: Maximum number of iterations has been exceeded.\n",
      "         Current function value: 1.350306\n",
      "         Iterations: 35\n",
      "         Function evaluations: 40\n",
      "         Gradient evaluations: 40\n"
     ]
    },
    {
     "name": "stderr",
     "output_type": "stream",
     "text": [
      "C:\\Users\\cilin\\AppData\\Local\\Continuum\\anaconda3\\lib\\site-packages\\statsmodels\\base\\model.py:512: ConvergenceWarning: Maximum Likelihood optimization failed to converge. Check mle_retvals\n",
      "  \"Check mle_retvals\", ConvergenceWarning)\n"
     ]
    }
   ],
   "source": [
    "# create dependent variable\n",
    "y = df[\"nr_companies\"]\n",
    "\n",
    "# create explanatory variables\n",
    "X = df[['month']]\n",
    "\n",
    "# create dummy variables     \n",
    "crd_fe = pd.get_dummies(df[\"crd\"], drop_first = True) \n",
    "\n",
    "# join explanatory and dummy variables\n",
    "X = X.join(crd_fe)\n",
    "\n",
    "# create train and test data\n",
    "X_train, X_test, y_train, y_test = train_test_split(X, y, test_size=0.35,\n",
    "                                                  random_state=1, stratify=y)\n",
    "\n",
    "# fit model using sci-kit learn\n",
    "model2 = LogisticRegression(random_state=0, multi_class='multinomial', penalty='none', solver='newton-cg').fit(X_train, y_train)\n",
    "print(\"Prediction performance on train\", model2.score(X_train, y_train))\n",
    "print(\"Prediction performance on test\", model2.score(X_test, y_test))\n",
    "\n",
    "\n",
    "# fit using statsmodels package\n",
    "model2 = sm.MNLogit(y, X).fit(method='bfgs')\n",
    "#model2.summary()"
   ]
  },
  {
   "cell_type": "code",
   "execution_count": 27,
   "metadata": {},
   "outputs": [
    {
     "data": {
      "text/plain": [
       "Text(0, 0.5, 'coeficient estimates: odds_ratio')"
      ]
     },
     "execution_count": 27,
     "metadata": {},
     "output_type": "execute_result"
    },
    {
     "data": {
      "image/png": "[encoded data removed]",
      "text/plain": [
       "<Figure size 720x360 with 1 Axes>"
      ]
     },
     "metadata": {
      "needs_background": "light"
     },
     "output_type": "display_data"
    }
   ],
   "source": [
    "## plot params of multinomial logit model (using statsmodels package)\n",
    "# get params\n",
    "params = np.exp(model2.params)\n",
    "params = model_params_cleaning(params)\n",
    "    \n",
    "# get ci\n",
    "ci = np.exp(model2._results.conf_int())\n",
    "ci = model_ci_cleaning(ci)\n",
    "\n",
    "# concat params and ci\n",
    "param_ci = params.merge(ci, on='companies', how = 'left')\n",
    "\n",
    "# get params with error bars\n",
    "coef_df = model_error_bar(param_ci)\n",
    "coef_df\n",
    "\n",
    "## markers/labels to use\n",
    "marker_list = ['o']\n",
    "marker_color = ['darkkhaki']\n",
    "#coef_df = coef_df.reset_index()\n",
    "varname = coef_df.companies.unique()\n",
    "x_labels = ['2', '3', '4', '5', '6', '7', '8', '9', '10']\n",
    "\n",
    "width = 0.10\n",
    "\n",
    "## define x base (4 covariates in total)\n",
    "base_x = pd.np.arange(len(varname)) \n",
    "base_x\n",
    "\n",
    "# plot graphs\n",
    "fig, ax = plt.subplots(figsize=(10, 5))\n",
    "    \n",
    "# sort params in order\n",
    "coef_df = coef_df.set_index('companies').reindex(varname)\n",
    "    \n",
    "# plot bars\n",
    "X = base_x + width \n",
    "ax.bar(X, coef_df['coef'], color='none', yerr=coef_df['ci_0'], width=0.2)\n",
    "    \n",
    "# plot markers\n",
    "ax.scatter(x=X,  marker=marker_list[0], s=110, \n",
    "               y=coef_df['coef'], color=marker_color[0])\n",
    "\n",
    "# add vertical and horizontal lines\n",
    "ax.axhline(y=1, linewidth=1, color='grey')\n",
    "ax.axvline(x=0.6, linestyle='--', linewidth=1, color='grey')\n",
    "ax.axvline(x=1.6, linestyle='--', linewidth=1, color='grey')\n",
    "ax.axvline(x=2.6, linestyle='--', linewidth=1, color='grey')\n",
    "ax.axvline(x=3.6, linestyle='--', linewidth=1, color='grey')\n",
    "ax.axvline(x=4.6, linestyle='--', linewidth=1, color='grey')\n",
    "ax.axvline(x=5.6, linestyle='--', linewidth=1, color='grey')\n",
    "ax.axvline(x=6.6, linestyle='--', linewidth=1, color='grey')\n",
    "ax.axvline(x=7.6, linestyle='--', linewidth=1, color='grey')\n",
    "\n",
    "# set ax visibility\n",
    "ax.spines[\"top\"].set_visible(False)\n",
    "ax.spines[\"right\"].set_visible(False)\n",
    "ax.spines[\"left\"].set_visible(False)\n",
    "ax.spines['bottom'].set_color('dimgrey')\n",
    "\n",
    "# add title, labels, legend \n",
    "ax.set_title(' Model = Multinomial Logit; Reference level = 1 company \\n (Fringe region, SE clustered at CRD level, CRD FE included)\\n', fontsize=16)\n",
    "ax.xaxis.set_ticks_position('none')\n",
    "ax.set_xticks(np.arange(len(x_labels)))\n",
    "ax.set_xticklabels(x_labels, rotation=0, fontsize=12)\n",
    "#ax.set_ylim(0.5, 1.2)\n",
    "#ax.set_yticks(np.arange(0.5, 1.3, 0.2))\n",
    "plt.xlabel('number of companies')\n",
    "plt.ylabel('coeficient estimates: odds_ratio')"
   ]
  },
  {
   "cell_type": "markdown",
   "metadata": {},
   "source": [
    "#### Step 5: Bayes rule"
   ]
  },
  {
   "cell_type": "code",
   "execution_count": 28,
   "metadata": {},
   "outputs": [],
   "source": [
    "df['counts'] = 1"
   ]
  },
  {
   "cell_type": "markdown",
   "metadata": {},
   "source": [
    "compute posterior probabilities"
   ]
  },
  {
   "cell_type": "code",
   "execution_count": 29,
   "metadata": {},
   "outputs": [
    {
     "data": {
      "text/html": [
       "<div>\n",
       "<style scoped>\n",
       "    .dataframe tbody tr th:only-of-type {\n",
       "        vertical-align: middle;\n",
       "    }\n",
       "\n",
       "    .dataframe tbody tr th {\n",
       "        vertical-align: top;\n",
       "    }\n",
       "\n",
       "    .dataframe thead th {\n",
       "        text-align: right;\n",
       "    }\n",
       "</style>\n",
       "<table border=\"1\" class=\"dataframe\">\n",
       "  <thead>\n",
       "    <tr style=\"text-align: right;\">\n",
       "      <th></th>\n",
       "      <th>year</th>\n",
       "      <th>counts</th>\n",
       "      <th>post_prob</th>\n",
       "    </tr>\n",
       "  </thead>\n",
       "  <tbody>\n",
       "    <tr>\n",
       "      <th>0</th>\n",
       "      <td>2004</td>\n",
       "      <td>1411</td>\n",
       "      <td>0.338126</td>\n",
       "    </tr>\n",
       "    <tr>\n",
       "      <th>1</th>\n",
       "      <td>2005</td>\n",
       "      <td>1450</td>\n",
       "      <td>0.347472</td>\n",
       "    </tr>\n",
       "    <tr>\n",
       "      <th>2</th>\n",
       "      <td>2006</td>\n",
       "      <td>1312</td>\n",
       "      <td>0.314402</td>\n",
       "    </tr>\n",
       "  </tbody>\n",
       "</table>\n",
       "</div>"
      ],
      "text/plain": [
       "   year  counts  post_prob\n",
       "0  2004    1411   0.338126\n",
       "1  2005    1450   0.347472\n",
       "2  2006    1312   0.314402"
      ]
     },
     "execution_count": 29,
     "metadata": {},
     "output_type": "execute_result"
    }
   ],
   "source": [
    "post_prob = df.groupby(['year'], as_index=False)['counts'].count()\n",
    "post_prob['post_prob'] = post_prob.counts/df.shape[0]\n",
    "post_prob.head()"
   ]
  },
  {
   "cell_type": "markdown",
   "metadata": {},
   "source": [
    "compute conditional probabilities"
   ]
  },
  {
   "cell_type": "code",
   "execution_count": 30,
   "metadata": {},
   "outputs": [],
   "source": [
    "cond_prob = df.groupby(['year', 'nr_companies'], as_index=False)['counts'].count()\n",
    "\n",
    "temp = cond_prob.groupby(['year'], as_index=False)['counts'].sum()\n",
    "\n",
    "cond_prob['counts_year'] = np.where(cond_prob.year==2004, temp[temp.year==2004].counts.values, \n",
    "                                   np.where(cond_prob.year==2005, temp[temp.year==2005].counts.values, temp[temp.year==2006].counts.values))\n",
    "\n",
    "cond_prob['cond_prob'] = cond_prob.counts/cond_prob.counts_year\n",
    "\n",
    "# keep only for one company\n",
    "cond_prob = cond_prob[cond_prob.nr_companies==1]"
   ]
  },
  {
   "cell_type": "markdown",
   "metadata": {},
   "source": [
    "compute conditional probabilities x posterior probabilities"
   ]
  },
  {
   "cell_type": "code",
   "execution_count": 31,
   "metadata": {},
   "outputs": [
    {
     "data": {
      "text/html": [
       "<div>\n",
       "<style scoped>\n",
       "    .dataframe tbody tr th:only-of-type {\n",
       "        vertical-align: middle;\n",
       "    }\n",
       "\n",
       "    .dataframe tbody tr th {\n",
       "        vertical-align: top;\n",
       "    }\n",
       "\n",
       "    .dataframe thead th {\n",
       "        text-align: right;\n",
       "    }\n",
       "</style>\n",
       "<table border=\"1\" class=\"dataframe\">\n",
       "  <thead>\n",
       "    <tr style=\"text-align: right;\">\n",
       "      <th></th>\n",
       "      <th>year</th>\n",
       "      <th>nr_companies</th>\n",
       "      <th>counts_x</th>\n",
       "      <th>counts_year</th>\n",
       "      <th>cond_prob</th>\n",
       "      <th>counts_y</th>\n",
       "      <th>post_prob</th>\n",
       "      <th>cond_post_prob</th>\n",
       "    </tr>\n",
       "  </thead>\n",
       "  <tbody>\n",
       "    <tr>\n",
       "      <th>0</th>\n",
       "      <td>2004</td>\n",
       "      <td>1</td>\n",
       "      <td>371</td>\n",
       "      <td>1411</td>\n",
       "      <td>0.262934</td>\n",
       "      <td>1411</td>\n",
       "      <td>0.338126</td>\n",
       "      <td>0.088905</td>\n",
       "    </tr>\n",
       "    <tr>\n",
       "      <th>1</th>\n",
       "      <td>2005</td>\n",
       "      <td>1</td>\n",
       "      <td>365</td>\n",
       "      <td>1450</td>\n",
       "      <td>0.251724</td>\n",
       "      <td>1450</td>\n",
       "      <td>0.347472</td>\n",
       "      <td>0.087467</td>\n",
       "    </tr>\n",
       "    <tr>\n",
       "      <th>2</th>\n",
       "      <td>2006</td>\n",
       "      <td>1</td>\n",
       "      <td>332</td>\n",
       "      <td>1312</td>\n",
       "      <td>0.253049</td>\n",
       "      <td>1312</td>\n",
       "      <td>0.314402</td>\n",
       "      <td>0.079559</td>\n",
       "    </tr>\n",
       "  </tbody>\n",
       "</table>\n",
       "</div>"
      ],
      "text/plain": [
       "   year  nr_companies  counts_x  counts_year  cond_prob  counts_y  post_prob  \\\n",
       "0  2004             1       371         1411   0.262934      1411   0.338126   \n",
       "1  2005             1       365         1450   0.251724      1450   0.347472   \n",
       "2  2006             1       332         1312   0.253049      1312   0.314402   \n",
       "\n",
       "   cond_post_prob  \n",
       "0        0.088905  \n",
       "1        0.087467  \n",
       "2        0.079559  "
      ]
     },
     "execution_count": 31,
     "metadata": {},
     "output_type": "execute_result"
    }
   ],
   "source": [
    "numerator = cond_prob.merge(post_prob, on='year', how='left')\n",
    "numerator['cond_post_prob'] = numerator.cond_prob * numerator.post_prob\n",
    "numerator.head()"
   ]
  },
  {
   "cell_type": "code",
   "execution_count": 32,
   "metadata": {},
   "outputs": [],
   "source": [
    "denominator = 0\n",
    "for i in numerator.index:\n",
    "    denominator += numerator.loc[i, 'cond_post_prob']"
   ]
  },
  {
   "cell_type": "code",
   "execution_count": 33,
   "metadata": {},
   "outputs": [
    {
     "data": {
      "text/plain": [
       "0    0.347378\n",
       "1    0.341760\n",
       "2    0.310861\n",
       "Name: cond_post_prob, dtype: float64"
      ]
     },
     "execution_count": 33,
     "metadata": {},
     "output_type": "execute_result"
    }
   ],
   "source": [
    "numerator.cond_post_prob/denominator"
   ]
  },
  {
   "cell_type": "code",
   "execution_count": null,
   "metadata": {},
   "outputs": [],
   "source": []
  }
 ],
 "metadata": {
  "kernelspec": {
   "display_name": "Python 3",
   "language": "python",
   "name": "python3"
  },
  "language_info": {
   "codemirror_mode": {
    "name": "ipython",
    "version": 3
   },
   "file_extension": ".py",
   "mimetype": "text/x-python",
   "name": "python",
   "nbconvert_exporter": "python",
   "pygments_lexer": "ipython3",
   "version": "3.7.3"
  }
 },
 "nbformat": 4,
 "nbformat_minor": 4
}
