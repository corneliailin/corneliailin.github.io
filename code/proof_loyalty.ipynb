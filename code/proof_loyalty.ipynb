{
 "cells": [
  {
   "cell_type": "markdown",
   "metadata": {},
   "source": [
    "references"
   ]
  },
  {
   "cell_type": "markdown",
   "metadata": {},
   "source": [
    "https://www.juanshishido.com/logisticcoefficients.html\n",
    "\n",
    "https://www.datasklr.com/logistic-regression/multinomial-logistic-regression    "
   ]
  },
  {
   "cell_type": "markdown",
   "metadata": {},
   "source": [
    "import libraries"
   ]
  },
  {
   "cell_type": "code",
   "execution_count": 1,
   "metadata": {},
   "outputs": [],
   "source": [
    "import pandas as pd\n",
    "import numpy as np\n",
    "import matplotlib.pyplot as plt\n",
    "import seaborn as sns\n",
    "from sklearn.model_selection import train_test_split\n",
    "from sklearn.linear_model import LogisticRegression\n",
    "import statsmodels.api as sm\n",
    "from mlxtend.plotting import heatmap"
   ]
  },
  {
   "cell_type": "markdown",
   "metadata": {},
   "source": [
    "set working directories"
   ]
  },
  {
   "cell_type": "code",
   "execution_count": 2,
   "metadata": {},
   "outputs": [],
   "source": [
    "in_dir = \"N:/SeedsNRI/private/Cornelia/Research Projects/PriceDispersion/Data4_097_v1/ProofCapacityConstraints/\""
   ]
  },
  {
   "cell_type": "markdown",
   "metadata": {},
   "source": [
    "define functions"
   ]
  },
  {
   "cell_type": "code",
   "execution_count": 3,
   "metadata": {},
   "outputs": [],
   "source": [
    "def model_params_cleaning(df):\n",
    "    \"\"\" Clean param df\n",
    "    # param df: df\n",
    "    # return param df in clean form\n",
    "    \"\"\"\n",
    "    # keep only param for month\n",
    "    df = df.iloc[0, :]\n",
    "    \n",
    "    # transform to df (outcome above is numpy after selection)\n",
    "    df = pd.DataFrame(df)\n",
    "    \n",
    "    # add index as columns\n",
    "    df = df.reset_index()\n",
    "    \n",
    "    # rename vars\n",
    "    df.rename(columns={'index':'companies', 'month':'coef'}, inplace=True)    \n",
    "    \n",
    "    # add 2 to companies column\n",
    "    \n",
    "    return df\n",
    "    df['companies'] = df.companies + 2\n",
    "    return df"
   ]
  },
  {
   "cell_type": "code",
   "execution_count": 4,
   "metadata": {},
   "outputs": [],
   "source": [
    "def model_ci_cleaning(np):\n",
    "    \"\"\" Clean ci df\n",
    "    # param df: df\n",
    "    # return ci df in clean form\n",
    "    \"\"\"\n",
    "    # keep only CIs for month\n",
    "    ci_list = []\n",
    "    for i in range(len(np)):\n",
    "        ci_list.append(np[i][0])\n",
    "    # transform to df\n",
    "    df = pd.DataFrame(ci_list)\n",
    "    \n",
    "    # rename vars\n",
    "    df.columns = ['ci_0', 'ci_1'] \n",
    "    \n",
    "    # add index as column\n",
    "    df = df.reset_index()\n",
    "    \n",
    "    # rename index\n",
    "    df.rename(columns={'index':'companies'}, inplace=True)\n",
    "    \n",
    "\n",
    "    return df"
   ]
  },
  {
   "cell_type": "code",
   "execution_count": 5,
   "metadata": {},
   "outputs": [],
   "source": [
    "def model_error_bar(df):\n",
    "    \"\"\" Calculate the error bar lenghts for ci\n",
    "    # param df: params and ci df\n",
    "    # return params df with added error bar\n",
    "    \"\"\"\n",
    "    error_bar = pd.DataFrame(df.loc[:,'coef'] - df.loc[:,'ci_1'])\n",
    "    error_bar.rename(columns = {0: 'ci_0'}, inplace=True)\n",
    "    \n",
    "    # add params and error_bar to a df\n",
    "    df = pd.concat((df.loc[:, ['companies', 'coef']], error_bar), axis=1)\n",
    "    \n",
    "    return df"
   ]
  },
  {
   "cell_type": "markdown",
   "metadata": {},
   "source": [
    "#### Step 1: Read in data"
   ]
  },
  {
   "cell_type": "code",
   "execution_count": 6,
   "metadata": {},
   "outputs": [],
   "source": [
    "fringe = pd.read_stata(in_dir + 'HoD.dta')\n",
    "core = pd.read_stata(in_dir + 'HeD.dta')"
   ]
  },
  {
   "cell_type": "markdown",
   "metadata": {},
   "source": [
    "#### Step 2: Data preprocessing"
   ]
  },
  {
   "cell_type": "markdown",
   "metadata": {},
   "source": [
    "1) keep only columns of interest"
   ]
  },
  {
   "cell_type": "code",
   "execution_count": 7,
   "metadata": {},
   "outputs": [],
   "source": [
    "columns = ['year',\t'state', 'statename', 'fips', 'panel_no', 'companycode', 'companyname', 'parentcode', 'seed_type',\n",
    "            'IR_single', 'HT_single', 'IR_double', 'IRHT_double', 'IRHT_triple', 'IRHT_quad', 'IRHT_stacked',\n",
    "            'conventional', 'gmo', 'prior_Jan_order', 'post_Jan_order', 'loyal', 'lon', 'lat', 'month', 'crd']\n",
    "fringe = fringe[columns]\n",
    "core =  core[columns]"
   ]
  },
  {
   "cell_type": "code",
   "execution_count": 8,
   "metadata": {},
   "outputs": [],
   "source": [
    "fringe['seed_desc'] = np.where(fringe.conventional==1, 'conventional',\n",
    "                              np.where(fringe.IR_single==1, 'IR_single',\n",
    "                                      np.where(fringe.IR_double==1, 'IR_double',\n",
    "                                              np.where(fringe.IRHT_double==1, 'IRHT_double',\n",
    "                                                      np.where(fringe.IRHT_triple==1, 'IRHT_triple',\n",
    "                                                              np.where(fringe.IRHT_stacked==1, 'IRHT_stacked', 'otherGMO'))))))\n",
    "\n",
    "core['seed_desc'] = np.where(core.conventional==1, 'conventional',\n",
    "                              np.where(core.IR_single==1, 'IR_single',\n",
    "                                      np.where(core.IR_double==1, 'IR_double',\n",
    "                                              np.where(core.IRHT_double==1, 'IRHT_double',\n",
    "                                                      np.where(core.IRHT_triple==1, 'IRHT_triple',\n",
    "                                                              np.where(core.IRHT_stacked==1, 'IRHT_stacked', 'otherGMO'))))))"
   ]
  },
  {
   "cell_type": "markdown",
   "metadata": {},
   "source": [
    "2) construct 2004-2006, 2007-2009, 2004-2009 panels"
   ]
  },
  {
   "cell_type": "code",
   "execution_count": 9,
   "metadata": {},
   "outputs": [],
   "source": [
    "# select year panel and region\n",
    "year = '2004-2006'\n",
    "region = 'core'\n",
    "panel = 'yes' # set this to 'no' if no panel is required"
   ]
  },
  {
   "cell_type": "code",
   "execution_count": 10,
   "metadata": {},
   "outputs": [
    {
     "name": "stdout",
     "output_type": "stream",
     "text": [
      "core1\n"
     ]
    }
   ],
   "source": [
    "year_panel = ['2004-2006', '2007-2009', '2004-2009']\n",
    "data_region = ['fringe', 'core']\n",
    "\n",
    "# select based on year\n",
    "if year == year_panel[0]:\n",
    "    fringe1 = fringe[fringe.year.le(2006)]\n",
    "    core1 = core[core.year.le(2006)]\n",
    "elif year == year_panel[1]:\n",
    "    fringe1 = fringe[(fringe.year>=2007) & (fringe.year<=2009)]\n",
    "    core1 = core[(core.year>=2007) & (core.year<=2009)]\n",
    "else:\n",
    "    fringe1 = fringe\n",
    "    core1 = core\n",
    "    \n",
    "# select based on date \n",
    "if region == data_region[0]:\n",
    "    df = fringe1\n",
    "else:\n",
    "    df = core1\n",
    "    print('core1')\n",
    "\n",
    "    \n",
    "# keep only farmers that have obs in year (i.e., transoform data above into panel)\n",
    "if panel == 'yes':\n",
    "    farmer_panel = df.groupby(['panel_no'], as_index=False).agg({'year':'nunique'})\n",
    "    farmer_panel.rename(columns={'year':'nr_years'},inplace=True)\n",
    "    df = df.merge(farmer_panel, on='panel_no', how='left')\n",
    "\n",
    "    # keep if farmer is in all years in year\n",
    "    if year == year_panel[2]:\n",
    "        df = df[df.nr_years==6]\n",
    "    else:\n",
    "        df = df[df.nr_years==3]"
   ]
  },
  {
   "cell_type": "code",
   "execution_count": 11,
   "metadata": {},
   "outputs": [
    {
     "data": {
      "text/html": [
       "<div>\n",
       "<style scoped>\n",
       "    .dataframe tbody tr th:only-of-type {\n",
       "        vertical-align: middle;\n",
       "    }\n",
       "\n",
       "    .dataframe tbody tr th {\n",
       "        vertical-align: top;\n",
       "    }\n",
       "\n",
       "    .dataframe thead th {\n",
       "        text-align: right;\n",
       "    }\n",
       "</style>\n",
       "<table border=\"1\" class=\"dataframe\">\n",
       "  <thead>\n",
       "    <tr style=\"text-align: right;\">\n",
       "      <th></th>\n",
       "      <th>year</th>\n",
       "      <th>state</th>\n",
       "      <th>statename</th>\n",
       "      <th>fips</th>\n",
       "      <th>panel_no</th>\n",
       "      <th>companycode</th>\n",
       "      <th>companyname</th>\n",
       "      <th>parentcode</th>\n",
       "      <th>seed_type</th>\n",
       "      <th>IR_single</th>\n",
       "      <th>...</th>\n",
       "      <th>gmo</th>\n",
       "      <th>prior_Jan_order</th>\n",
       "      <th>post_Jan_order</th>\n",
       "      <th>loyal</th>\n",
       "      <th>lon</th>\n",
       "      <th>lat</th>\n",
       "      <th>month</th>\n",
       "      <th>crd</th>\n",
       "      <th>seed_desc</th>\n",
       "      <th>nr_years</th>\n",
       "    </tr>\n",
       "  </thead>\n",
       "  <tbody>\n",
       "    <tr>\n",
       "      <th>11</th>\n",
       "      <td>2004</td>\n",
       "      <td>17</td>\n",
       "      <td>Illinois</td>\n",
       "      <td>17085</td>\n",
       "      <td>176695</td>\n",
       "      <td>774</td>\n",
       "      <td>NORTH-GRO SEEDS</td>\n",
       "      <td>98</td>\n",
       "      <td>1</td>\n",
       "      <td>0.0</td>\n",
       "      <td>...</td>\n",
       "      <td>0.0</td>\n",
       "      <td>1.0</td>\n",
       "      <td>0.0</td>\n",
       "      <td>1.0</td>\n",
       "      <td>90.211983</td>\n",
       "      <td>42.367115</td>\n",
       "      <td>12</td>\n",
       "      <td>17010</td>\n",
       "      <td>conventional</td>\n",
       "      <td>3</td>\n",
       "    </tr>\n",
       "    <tr>\n",
       "      <th>19</th>\n",
       "      <td>2004</td>\n",
       "      <td>17</td>\n",
       "      <td>Illinois</td>\n",
       "      <td>17103</td>\n",
       "      <td>123930</td>\n",
       "      <td>174</td>\n",
       "      <td>GARST</td>\n",
       "      <td>3</td>\n",
       "      <td>1</td>\n",
       "      <td>0.0</td>\n",
       "      <td>...</td>\n",
       "      <td>0.0</td>\n",
       "      <td>1.0</td>\n",
       "      <td>0.0</td>\n",
       "      <td>1.0</td>\n",
       "      <td>89.299370</td>\n",
       "      <td>41.746742</td>\n",
       "      <td>12</td>\n",
       "      <td>17010</td>\n",
       "      <td>conventional</td>\n",
       "      <td>3</td>\n",
       "    </tr>\n",
       "  </tbody>\n",
       "</table>\n",
       "<p>2 rows × 27 columns</p>\n",
       "</div>"
      ],
      "text/plain": [
       "    year  state             statename   fips  panel_no  companycode  \\\n",
       "11  2004     17  Illinois              17085    176695          774   \n",
       "19  2004     17  Illinois              17103    123930          174   \n",
       "\n",
       "        companyname  parentcode  seed_type  IR_single  ...  gmo  \\\n",
       "11  NORTH-GRO SEEDS          98          1        0.0  ...  0.0   \n",
       "19            GARST           3          1        0.0  ...  0.0   \n",
       "\n",
       "    prior_Jan_order  post_Jan_order  loyal        lon        lat  month  \\\n",
       "11              1.0             0.0    1.0  90.211983  42.367115     12   \n",
       "19              1.0             0.0    1.0  89.299370  41.746742     12   \n",
       "\n",
       "      crd     seed_desc  nr_years  \n",
       "11  17010  conventional         3  \n",
       "19  17010  conventional         3  \n",
       "\n",
       "[2 rows x 27 columns]"
      ]
     },
     "execution_count": 11,
     "metadata": {},
     "output_type": "execute_result"
    }
   ],
   "source": [
    "df.head(2)"
   ]
  },
  {
   "cell_type": "markdown",
   "metadata": {},
   "source": [
    "#### 3) add number of companies a farmer does business with (during the time period selected)"
   ]
  },
  {
   "cell_type": "code",
   "execution_count": 12,
   "metadata": {},
   "outputs": [],
   "source": [
    "def helper1(grp):\n",
    "    grp['nr_companies'] = len(np.unique(grp.companycode))\n",
    "    return grp\n",
    "\n",
    "df = df.groupby(['panel_no']).apply(helper1)"
   ]
  },
  {
   "cell_type": "code",
   "execution_count": 13,
   "metadata": {},
   "outputs": [
    {
     "data": {
      "text/html": [
       "<div>\n",
       "<style scoped>\n",
       "    .dataframe tbody tr th:only-of-type {\n",
       "        vertical-align: middle;\n",
       "    }\n",
       "\n",
       "    .dataframe tbody tr th {\n",
       "        vertical-align: top;\n",
       "    }\n",
       "\n",
       "    .dataframe thead th {\n",
       "        text-align: right;\n",
       "    }\n",
       "</style>\n",
       "<table border=\"1\" class=\"dataframe\">\n",
       "  <thead>\n",
       "    <tr style=\"text-align: right;\">\n",
       "      <th></th>\n",
       "      <th>year</th>\n",
       "      <th>state</th>\n",
       "      <th>statename</th>\n",
       "      <th>fips</th>\n",
       "      <th>panel_no</th>\n",
       "      <th>companycode</th>\n",
       "      <th>companyname</th>\n",
       "      <th>parentcode</th>\n",
       "      <th>seed_type</th>\n",
       "      <th>IR_single</th>\n",
       "      <th>...</th>\n",
       "      <th>prior_Jan_order</th>\n",
       "      <th>post_Jan_order</th>\n",
       "      <th>loyal</th>\n",
       "      <th>lon</th>\n",
       "      <th>lat</th>\n",
       "      <th>month</th>\n",
       "      <th>crd</th>\n",
       "      <th>seed_desc</th>\n",
       "      <th>nr_years</th>\n",
       "      <th>nr_companies</th>\n",
       "    </tr>\n",
       "  </thead>\n",
       "  <tbody>\n",
       "    <tr>\n",
       "      <th>11</th>\n",
       "      <td>2004</td>\n",
       "      <td>17</td>\n",
       "      <td>Illinois</td>\n",
       "      <td>17085</td>\n",
       "      <td>176695</td>\n",
       "      <td>774</td>\n",
       "      <td>NORTH-GRO SEEDS</td>\n",
       "      <td>98</td>\n",
       "      <td>1</td>\n",
       "      <td>0.0</td>\n",
       "      <td>...</td>\n",
       "      <td>1.0</td>\n",
       "      <td>0.0</td>\n",
       "      <td>1.0</td>\n",
       "      <td>90.211983</td>\n",
       "      <td>42.367115</td>\n",
       "      <td>12</td>\n",
       "      <td>17010</td>\n",
       "      <td>conventional</td>\n",
       "      <td>3</td>\n",
       "      <td>2</td>\n",
       "    </tr>\n",
       "    <tr>\n",
       "      <th>19</th>\n",
       "      <td>2004</td>\n",
       "      <td>17</td>\n",
       "      <td>Illinois</td>\n",
       "      <td>17103</td>\n",
       "      <td>123930</td>\n",
       "      <td>174</td>\n",
       "      <td>GARST</td>\n",
       "      <td>3</td>\n",
       "      <td>1</td>\n",
       "      <td>0.0</td>\n",
       "      <td>...</td>\n",
       "      <td>1.0</td>\n",
       "      <td>0.0</td>\n",
       "      <td>1.0</td>\n",
       "      <td>89.299370</td>\n",
       "      <td>41.746742</td>\n",
       "      <td>12</td>\n",
       "      <td>17010</td>\n",
       "      <td>conventional</td>\n",
       "      <td>3</td>\n",
       "      <td>3</td>\n",
       "    </tr>\n",
       "  </tbody>\n",
       "</table>\n",
       "<p>2 rows × 28 columns</p>\n",
       "</div>"
      ],
      "text/plain": [
       "    year  state             statename   fips  panel_no  companycode  \\\n",
       "11  2004     17  Illinois              17085    176695          774   \n",
       "19  2004     17  Illinois              17103    123930          174   \n",
       "\n",
       "        companyname  parentcode  seed_type  IR_single  ...  prior_Jan_order  \\\n",
       "11  NORTH-GRO SEEDS          98          1        0.0  ...              1.0   \n",
       "19            GARST           3          1        0.0  ...              1.0   \n",
       "\n",
       "    post_Jan_order  loyal        lon        lat  month    crd     seed_desc  \\\n",
       "11             0.0    1.0  90.211983  42.367115     12  17010  conventional   \n",
       "19             0.0    1.0  89.299370  41.746742     12  17010  conventional   \n",
       "\n",
       "    nr_years  nr_companies  \n",
       "11         3             2  \n",
       "19         3             3  \n",
       "\n",
       "[2 rows x 28 columns]"
      ]
     },
     "execution_count": 13,
     "metadata": {},
     "output_type": "execute_result"
    }
   ],
   "source": [
    "df.head(2)"
   ]
  },
  {
   "cell_type": "markdown",
   "metadata": {},
   "source": [
    "#### Step 3: Summary statistics"
   ]
  },
  {
   "cell_type": "markdown",
   "metadata": {},
   "source": [
    "1) Average number of orders"
   ]
  },
  {
   "cell_type": "code",
   "execution_count": 14,
   "metadata": {},
   "outputs": [
    {
     "name": "stdout",
     "output_type": "stream",
     "text": [
      "average # of orders in fringe: 4.224709325318358\n",
      "average # of orders in core: 5.243809362279512\n"
     ]
    }
   ],
   "source": [
    "# average number of orders\n",
    "fringe['counts'] = 1\n",
    "core['counts'] = 1\n",
    "print('average # of orders in fringe:', fringe.groupby(['year', 'panel_no'], as_index=False)['counts'].count()['counts'].mean())\n",
    "print('average # of orders in core:', core.groupby(['year', 'panel_no'], as_index=False)['counts'].count()['counts'].mean())"
   ]
  },
  {
   "cell_type": "markdown",
   "metadata": {},
   "source": [
    "2) average number of seeds"
   ]
  },
  {
   "cell_type": "code",
   "execution_count": 15,
   "metadata": {},
   "outputs": [
    {
     "name": "stdout",
     "output_type": "stream",
     "text": [
      "average # of seed types in fringe: 2.2921774895198923\n",
      "average # of seed types in core: 2.6183005427408412\n"
     ]
    }
   ],
   "source": [
    "# average number of seeds\n",
    "temp = fringe.groupby(['year', 'panel_no','seed_type'], as_index=False)['counts'].count()\n",
    "print('average # of seed types in fringe:',temp.groupby(['year', 'panel_no'], as_index=False)['seed_type'].count()['seed_type'].mean())\n",
    "\n",
    "temp = core.groupby(['year', 'panel_no','seed_type'], as_index=False)['counts'].count()\n",
    "print('average # of seed types in core:', temp.groupby(['year', 'panel_no'], as_index=False)['seed_type'].count()['seed_type'].mean())"
   ]
  },
  {
   "cell_type": "markdown",
   "metadata": {},
   "source": [
    "3) unique farmers by number of companies"
   ]
  },
  {
   "cell_type": "code",
   "execution_count": 16,
   "metadata": {},
   "outputs": [
    {
     "data": {
      "text/html": [
       "<div>\n",
       "<style scoped>\n",
       "    .dataframe tbody tr th:only-of-type {\n",
       "        vertical-align: middle;\n",
       "    }\n",
       "\n",
       "    .dataframe tbody tr th {\n",
       "        vertical-align: top;\n",
       "    }\n",
       "\n",
       "    .dataframe thead th {\n",
       "        text-align: right;\n",
       "    }\n",
       "</style>\n",
       "<table border=\"1\" class=\"dataframe\">\n",
       "  <thead>\n",
       "    <tr style=\"text-align: right;\">\n",
       "      <th></th>\n",
       "      <th>nr_companies</th>\n",
       "      <th>panel_no</th>\n",
       "      <th>share</th>\n",
       "    </tr>\n",
       "  </thead>\n",
       "  <tbody>\n",
       "    <tr>\n",
       "      <th>0</th>\n",
       "      <td>1</td>\n",
       "      <td>122</td>\n",
       "      <td>0.326203</td>\n",
       "    </tr>\n",
       "    <tr>\n",
       "      <th>1</th>\n",
       "      <td>2</td>\n",
       "      <td>86</td>\n",
       "      <td>0.229947</td>\n",
       "    </tr>\n",
       "    <tr>\n",
       "      <th>2</th>\n",
       "      <td>3</td>\n",
       "      <td>65</td>\n",
       "      <td>0.173797</td>\n",
       "    </tr>\n",
       "    <tr>\n",
       "      <th>3</th>\n",
       "      <td>4</td>\n",
       "      <td>52</td>\n",
       "      <td>0.139037</td>\n",
       "    </tr>\n",
       "    <tr>\n",
       "      <th>4</th>\n",
       "      <td>5</td>\n",
       "      <td>19</td>\n",
       "      <td>0.050802</td>\n",
       "    </tr>\n",
       "    <tr>\n",
       "      <th>5</th>\n",
       "      <td>6</td>\n",
       "      <td>15</td>\n",
       "      <td>0.040107</td>\n",
       "    </tr>\n",
       "    <tr>\n",
       "      <th>6</th>\n",
       "      <td>7</td>\n",
       "      <td>10</td>\n",
       "      <td>0.026738</td>\n",
       "    </tr>\n",
       "    <tr>\n",
       "      <th>7</th>\n",
       "      <td>8</td>\n",
       "      <td>4</td>\n",
       "      <td>0.010695</td>\n",
       "    </tr>\n",
       "    <tr>\n",
       "      <th>8</th>\n",
       "      <td>9</td>\n",
       "      <td>1</td>\n",
       "      <td>0.002674</td>\n",
       "    </tr>\n",
       "  </tbody>\n",
       "</table>\n",
       "</div>"
      ],
      "text/plain": [
       "   nr_companies  panel_no     share\n",
       "0             1       122  0.326203\n",
       "1             2        86  0.229947\n",
       "2             3        65  0.173797\n",
       "3             4        52  0.139037\n",
       "4             5        19  0.050802\n",
       "5             6        15  0.040107\n",
       "6             7        10  0.026738\n",
       "7             8         4  0.010695\n",
       "8             9         1  0.002674"
      ]
     },
     "execution_count": 16,
     "metadata": {},
     "output_type": "execute_result"
    }
   ],
   "source": [
    "# number unique farmers who buy from 1, 2, 3,... companies\n",
    "plt1 =df.groupby(['nr_companies'],as_index=False).agg({'panel_no': 'nunique'})\n",
    "plt1['share'] = plt1.panel_no/df.panel_no.nunique()\n",
    "plt1.head(20)"
   ]
  },
  {
   "cell_type": "code",
   "execution_count": 17,
   "metadata": {},
   "outputs": [
    {
     "data": {
      "text/plain": [
       "Text(0, 0.5, 'number of farmers')"
      ]
     },
     "execution_count": 17,
     "metadata": {},
     "output_type": "execute_result"
    },
    {
     "data": {
      "image/png": "[encoded data removed]",
      "text/plain": [
       "<Figure size 432x288 with 1 Axes>"
      ]
     },
     "metadata": {
      "needs_background": "light"
     },
     "output_type": "display_data"
    }
   ],
   "source": [
    "ax = sns.barplot(x=\"nr_companies\", y=\"panel_no\", data=plt1, color='darkkhaki')\n",
    "\n",
    "ax.spines[\"top\"].set_visible(False)\n",
    "ax.spines[\"right\"].set_visible(False)\n",
    "ax.spines[\"left\"].set_visible(False)\n",
    "ax.spines['bottom'].set_color('dimgrey')\n",
    "\n",
    "ax.set_title('Total farmers: ' + str(len(df.panel_no.unique())))\n",
    "ax.set_xlabel('total companies')\n",
    "ax.set_ylabel('number of farmers')\n",
    "#ax.set_ylim(0, 130)"
   ]
  },
  {
   "cell_type": "markdown",
   "metadata": {},
   "source": [
    "3) unique farmers by number of companies and loyal status"
   ]
  },
  {
   "cell_type": "code",
   "execution_count": 18,
   "metadata": {},
   "outputs": [
    {
     "data": {
      "text/html": [
       "<div>\n",
       "<style scoped>\n",
       "    .dataframe tbody tr th:only-of-type {\n",
       "        vertical-align: middle;\n",
       "    }\n",
       "\n",
       "    .dataframe tbody tr th {\n",
       "        vertical-align: top;\n",
       "    }\n",
       "\n",
       "    .dataframe thead th {\n",
       "        text-align: right;\n",
       "    }\n",
       "</style>\n",
       "<table border=\"1\" class=\"dataframe\">\n",
       "  <thead>\n",
       "    <tr style=\"text-align: right;\">\n",
       "      <th></th>\n",
       "      <th>total companies</th>\n",
       "      <th>order time</th>\n",
       "      <th>number of farmers</th>\n",
       "    </tr>\n",
       "  </thead>\n",
       "  <tbody>\n",
       "    <tr>\n",
       "      <th>1</th>\n",
       "      <td>1</td>\n",
       "      <td>Aug-Dec</td>\n",
       "      <td>105</td>\n",
       "    </tr>\n",
       "    <tr>\n",
       "      <th>0</th>\n",
       "      <td>1</td>\n",
       "      <td>Jan-July</td>\n",
       "      <td>47</td>\n",
       "    </tr>\n",
       "    <tr>\n",
       "      <th>3</th>\n",
       "      <td>2</td>\n",
       "      <td>Aug-Dec</td>\n",
       "      <td>75</td>\n",
       "    </tr>\n",
       "    <tr>\n",
       "      <th>2</th>\n",
       "      <td>2</td>\n",
       "      <td>Jan-July</td>\n",
       "      <td>35</td>\n",
       "    </tr>\n",
       "    <tr>\n",
       "      <th>5</th>\n",
       "      <td>3</td>\n",
       "      <td>Aug-Dec</td>\n",
       "      <td>61</td>\n",
       "    </tr>\n",
       "    <tr>\n",
       "      <th>4</th>\n",
       "      <td>3</td>\n",
       "      <td>Jan-July</td>\n",
       "      <td>25</td>\n",
       "    </tr>\n",
       "    <tr>\n",
       "      <th>7</th>\n",
       "      <td>4</td>\n",
       "      <td>Aug-Dec</td>\n",
       "      <td>44</td>\n",
       "    </tr>\n",
       "    <tr>\n",
       "      <th>6</th>\n",
       "      <td>4</td>\n",
       "      <td>Jan-July</td>\n",
       "      <td>21</td>\n",
       "    </tr>\n",
       "    <tr>\n",
       "      <th>9</th>\n",
       "      <td>5</td>\n",
       "      <td>Aug-Dec</td>\n",
       "      <td>17</td>\n",
       "    </tr>\n",
       "    <tr>\n",
       "      <th>8</th>\n",
       "      <td>5</td>\n",
       "      <td>Jan-July</td>\n",
       "      <td>8</td>\n",
       "    </tr>\n",
       "    <tr>\n",
       "      <th>11</th>\n",
       "      <td>6</td>\n",
       "      <td>Aug-Dec</td>\n",
       "      <td>14</td>\n",
       "    </tr>\n",
       "    <tr>\n",
       "      <th>10</th>\n",
       "      <td>6</td>\n",
       "      <td>Jan-July</td>\n",
       "      <td>5</td>\n",
       "    </tr>\n",
       "    <tr>\n",
       "      <th>13</th>\n",
       "      <td>7</td>\n",
       "      <td>Aug-Dec</td>\n",
       "      <td>7</td>\n",
       "    </tr>\n",
       "    <tr>\n",
       "      <th>12</th>\n",
       "      <td>7</td>\n",
       "      <td>Jan-July</td>\n",
       "      <td>6</td>\n",
       "    </tr>\n",
       "    <tr>\n",
       "      <th>15</th>\n",
       "      <td>8</td>\n",
       "      <td>Aug-Dec</td>\n",
       "      <td>4</td>\n",
       "    </tr>\n",
       "    <tr>\n",
       "      <th>14</th>\n",
       "      <td>8</td>\n",
       "      <td>Jan-July</td>\n",
       "      <td>1</td>\n",
       "    </tr>\n",
       "    <tr>\n",
       "      <th>16</th>\n",
       "      <td>9</td>\n",
       "      <td>Aug-Dec</td>\n",
       "      <td>1</td>\n",
       "    </tr>\n",
       "  </tbody>\n",
       "</table>\n",
       "</div>"
      ],
      "text/plain": [
       "    total companies order time  number of farmers\n",
       "1                 1    Aug-Dec                105\n",
       "0                 1   Jan-July                 47\n",
       "3                 2    Aug-Dec                 75\n",
       "2                 2   Jan-July                 35\n",
       "5                 3    Aug-Dec                 61\n",
       "4                 3   Jan-July                 25\n",
       "7                 4    Aug-Dec                 44\n",
       "6                 4   Jan-July                 21\n",
       "9                 5    Aug-Dec                 17\n",
       "8                 5   Jan-July                  8\n",
       "11                6    Aug-Dec                 14\n",
       "10                6   Jan-July                  5\n",
       "13                7    Aug-Dec                  7\n",
       "12                7   Jan-July                  6\n",
       "15                8    Aug-Dec                  4\n",
       "14                8   Jan-July                  1\n",
       "16                9    Aug-Dec                  1"
      ]
     },
     "execution_count": 18,
     "metadata": {},
     "output_type": "execute_result"
    }
   ],
   "source": [
    "# number unique farmers who buy from 1, 2, 3,... companies, by loyal status (aug-dec vs. jan-july)\n",
    "plt2 =df.groupby(['nr_companies', 'loyal'],as_index=False).agg({'panel_no': 'nunique'})\n",
    "plt2.rename(columns={'loyal':'order time', 'nr_companies': 'total companies', 'panel_no': 'number of farmers'}, inplace=True)\n",
    "plt2['order time'] = np.where(plt2['order time']==1, \"Aug-Dec\", 'Jan-July')\n",
    "plt2.sort_values(by=['total companies','order time'], ascending=True, inplace=True)\n",
    "plt2.head(20)"
   ]
  },
  {
   "cell_type": "code",
   "execution_count": 19,
   "metadata": {},
   "outputs": [
    {
     "data": {
      "text/plain": [
       "<seaborn.axisgrid.FacetGrid at 0x243576351d0>"
      ]
     },
     "execution_count": 19,
     "metadata": {},
     "output_type": "execute_result"
    },
    {
     "data": {
      "image/png": "[encoded data removed]",
      "text/plain": [
       "<Figure size 1080x360 with 9 Axes>"
      ]
     },
     "metadata": {
      "needs_background": "light"
     },
     "output_type": "display_data"
    }
   ],
   "source": [
    "g = sns.catplot(x=\"order time\", y=\"number of farmers\", col='total companies',col_wrap=5, data=plt2,\n",
    "                kind=\"bar\",  ci=None, aspect=1.2, height=2.5, palette=['darkkhaki', 'grey'], legend=True, sharex=False);\n",
    "g.set_axis_labels(\"\", \"number of farmers\")"
   ]
  },
  {
   "cell_type": "markdown",
   "metadata": {},
   "source": [
    "4) unique farmers by number of companies, loyal status and type of seed"
   ]
  },
  {
   "cell_type": "code",
   "execution_count": 20,
   "metadata": {},
   "outputs": [
    {
     "data": {
      "text/html": [
       "<div>\n",
       "<style scoped>\n",
       "    .dataframe tbody tr th:only-of-type {\n",
       "        vertical-align: middle;\n",
       "    }\n",
       "\n",
       "    .dataframe tbody tr th {\n",
       "        vertical-align: top;\n",
       "    }\n",
       "\n",
       "    .dataframe thead th {\n",
       "        text-align: right;\n",
       "    }\n",
       "</style>\n",
       "<table border=\"1\" class=\"dataframe\">\n",
       "  <thead>\n",
       "    <tr style=\"text-align: right;\">\n",
       "      <th></th>\n",
       "      <th>total companies</th>\n",
       "      <th>order time</th>\n",
       "      <th>seed type</th>\n",
       "      <th>number of farmers</th>\n",
       "    </tr>\n",
       "  </thead>\n",
       "  <tbody>\n",
       "    <tr>\n",
       "      <th>6</th>\n",
       "      <td>1</td>\n",
       "      <td>Aug-Dec</td>\n",
       "      <td>IRHT_double</td>\n",
       "      <td>62</td>\n",
       "    </tr>\n",
       "    <tr>\n",
       "      <th>7</th>\n",
       "      <td>1</td>\n",
       "      <td>Aug-Dec</td>\n",
       "      <td>IRHT_stacked</td>\n",
       "      <td>1</td>\n",
       "    </tr>\n",
       "    <tr>\n",
       "      <th>8</th>\n",
       "      <td>1</td>\n",
       "      <td>Aug-Dec</td>\n",
       "      <td>IRHT_triple</td>\n",
       "      <td>16</td>\n",
       "    </tr>\n",
       "    <tr>\n",
       "      <th>9</th>\n",
       "      <td>1</td>\n",
       "      <td>Aug-Dec</td>\n",
       "      <td>IR_double</td>\n",
       "      <td>13</td>\n",
       "    </tr>\n",
       "    <tr>\n",
       "      <th>10</th>\n",
       "      <td>1</td>\n",
       "      <td>Aug-Dec</td>\n",
       "      <td>IR_single</td>\n",
       "      <td>63</td>\n",
       "    </tr>\n",
       "  </tbody>\n",
       "</table>\n",
       "</div>"
      ],
      "text/plain": [
       "    total companies order time     seed type  number of farmers\n",
       "6                 1    Aug-Dec   IRHT_double                 62\n",
       "7                 1    Aug-Dec  IRHT_stacked                  1\n",
       "8                 1    Aug-Dec   IRHT_triple                 16\n",
       "9                 1    Aug-Dec     IR_double                 13\n",
       "10                1    Aug-Dec     IR_single                 63"
      ]
     },
     "execution_count": 20,
     "metadata": {},
     "output_type": "execute_result"
    }
   ],
   "source": [
    "# number unique farmers who buy from 1, 2, 3,... companies, by loyal status (aug-dec vs. jan-july) and type of seed\n",
    "plt3 =df.groupby(['nr_companies', 'loyal', 'seed_desc'],as_index=False).agg({'panel_no': 'nunique'})\n",
    "plt3.rename(columns={'loyal':'order time', 'nr_companies': 'total companies', 'panel_no': 'number of farmers', 'seed_desc':'seed type'}, inplace=True)\n",
    "plt3['order time'] = np.where(plt3['order time']==1, \"Aug-Dec\", 'Jan-July')\n",
    "plt3.sort_values(by=['total companies','order time', 'seed type'], ascending=True, inplace=True)\n",
    "plt3.head()"
   ]
  },
  {
   "cell_type": "code",
   "execution_count": 21,
   "metadata": {},
   "outputs": [
    {
     "data": {
      "text/plain": [
       "<seaborn.axisgrid.FacetGrid at 0x24357a03ba8>"
      ]
     },
     "execution_count": 21,
     "metadata": {},
     "output_type": "execute_result"
    },
    {
     "data": {
      "image/png": "[encoded data removed]",
      "text/plain": [
       "<Figure size 1699x648 with 9 Axes>"
      ]
     },
     "metadata": {
      "needs_background": "light"
     },
     "output_type": "display_data"
    }
   ],
   "source": [
    "g = sns.catplot(x=\"seed type\", y=\"number of farmers\", hue=\"order time\", col='total companies',col_wrap=3,data=plt3,\n",
    "                kind=\"bar\", ci=None, aspect=2.5, height=3, palette=['darkkhaki', 'grey'], legend=True, sharex=False)\n",
    "g.set_axis_labels(\"\", \"number of farmers\")"
   ]
  },
  {
   "cell_type": "markdown",
   "metadata": {},
   "source": [
    "5) other stats"
   ]
  },
  {
   "cell_type": "code",
   "execution_count": 22,
   "metadata": {},
   "outputs": [
    {
     "data": {
      "text/html": [
       "<div>\n",
       "<style scoped>\n",
       "    .dataframe tbody tr th:only-of-type {\n",
       "        vertical-align: middle;\n",
       "    }\n",
       "\n",
       "    .dataframe tbody tr th {\n",
       "        vertical-align: top;\n",
       "    }\n",
       "\n",
       "    .dataframe thead th {\n",
       "        text-align: right;\n",
       "    }\n",
       "</style>\n",
       "<table border=\"1\" class=\"dataframe\">\n",
       "  <thead>\n",
       "    <tr style=\"text-align: right;\">\n",
       "      <th></th>\n",
       "      <th>total companies</th>\n",
       "      <th>year</th>\n",
       "      <th>unique companies per year</th>\n",
       "      <th>panel_no</th>\n",
       "    </tr>\n",
       "  </thead>\n",
       "  <tbody>\n",
       "    <tr>\n",
       "      <th>0</th>\n",
       "      <td>1</td>\n",
       "      <td>2004</td>\n",
       "      <td>1</td>\n",
       "      <td>122</td>\n",
       "    </tr>\n",
       "    <tr>\n",
       "      <th>1</th>\n",
       "      <td>1</td>\n",
       "      <td>2005</td>\n",
       "      <td>1</td>\n",
       "      <td>122</td>\n",
       "    </tr>\n",
       "    <tr>\n",
       "      <th>2</th>\n",
       "      <td>1</td>\n",
       "      <td>2006</td>\n",
       "      <td>1</td>\n",
       "      <td>122</td>\n",
       "    </tr>\n",
       "    <tr>\n",
       "      <th>3</th>\n",
       "      <td>2</td>\n",
       "      <td>2004</td>\n",
       "      <td>1</td>\n",
       "      <td>38</td>\n",
       "    </tr>\n",
       "    <tr>\n",
       "      <th>4</th>\n",
       "      <td>2</td>\n",
       "      <td>2004</td>\n",
       "      <td>2</td>\n",
       "      <td>48</td>\n",
       "    </tr>\n",
       "  </tbody>\n",
       "</table>\n",
       "</div>"
      ],
      "text/plain": [
       "   total companies  year  unique companies per year  panel_no\n",
       "0                1  2004                          1       122\n",
       "1                1  2005                          1       122\n",
       "2                1  2006                          1       122\n",
       "3                2  2004                          1        38\n",
       "4                2  2004                          2        48"
      ]
     },
     "execution_count": 22,
     "metadata": {},
     "output_type": "execute_result"
    }
   ],
   "source": [
    "## those that bought from 2, 3... companies, did they buy from the same # of companies every year, or the behavior changed over time?\n",
    "#number of companies per year\n",
    "plt4 = df.groupby(['nr_companies', 'panel_no', 'year'], as_index=False).agg({'companycode':'nunique'})\n",
    "plt4.rename(columns={'companycode': 'unique companies per year', 'nr_companies': 'total companies'}, inplace=True)\n",
    "\n",
    "# example: bougth from 2 companies in 3 year panel: stats by year, number of farmers who bought from 1 company vs 2 companies \n",
    "plt4 = plt4.groupby(['total companies', 'year', 'unique companies per year'], as_index=False).agg({'panel_no': 'nunique'})\n",
    "plt4.head()"
   ]
  },
  {
   "cell_type": "code",
   "execution_count": 23,
   "metadata": {},
   "outputs": [
    {
     "data": {
      "text/plain": [
       "<seaborn.axisgrid.FacetGrid at 0x24357a4f320>"
      ]
     },
     "execution_count": 23,
     "metadata": {},
     "output_type": "execute_result"
    },
    {
     "data": {
      "image/png": "[encoded data removed]",
      "text/plain": [
       "<Figure size 1224.38x360 with 9 Axes>"
      ]
     },
     "metadata": {
      "needs_background": "light"
     },
     "output_type": "display_data"
    }
   ],
   "source": [
    "g = sns.catplot(x=\"year\", y=\"panel_no\", hue=\"unique companies per year\", col='total companies',col_wrap=5, data=plt4,\n",
    "                kind=\"bar\",  ci=None, aspect=1.2, height=2.5, legend=True, sharex=False);\n",
    "g.set_axis_labels(\"\", \"number of farmers\")\n"
   ]
  },
  {
   "cell_type": "markdown",
   "metadata": {},
   "source": [
    "6) correlation coefficient between #of companies=1 and order before Dec"
   ]
  },
  {
   "cell_type": "code",
   "execution_count": 24,
   "metadata": {},
   "outputs": [
    {
     "data": {
      "image/png": "[encoded data removed]",
      "text/plain": [
       "<Figure size 432x288 with 2 Axes>"
      ]
     },
     "metadata": {
      "needs_background": "light"
     },
     "output_type": "display_data"
    }
   ],
   "source": [
    "df['companies_is_1'] = np.where(df.nr_companies==1, 1, 0)\n",
    "# let's add all mobility measures now\n",
    "features = ['loyal', 'companies_is_1']\n",
    "cm = df[features].corr().values\n",
    "hm = heatmap(cm, row_names=features, column_names=features)"
   ]
  },
  {
   "cell_type": "markdown",
   "metadata": {},
   "source": [
    "#### Step 4: Regression Analysis"
   ]
  },
  {
   "cell_type": "markdown",
   "metadata": {},
   "source": [
    "1) linear probability model"
   ]
  },
  {
   "cell_type": "code",
   "execution_count": 25,
   "metadata": {},
   "outputs": [
    {
     "name": "stdout",
     "output_type": "stream",
     "text": [
      "                                 OLS Regression Results                                \n",
      "=======================================================================================\n",
      "Dep. Variable:           nr_companies   R-squared (uncentered):                   0.315\n",
      "Model:                            OLS   Adj. R-squared (uncentered):              0.312\n",
      "Method:                 Least Squares   F-statistic:                          1.350e+14\n",
      "Date:                Tue, 14 Jul 2020   Prob (F-statistic):                   2.29e-170\n",
      "Time:                        00:48:54   Log-Likelihood:                         -2850.6\n",
      "No. Observations:                5112   AIC:                                      5753.\n",
      "Df Residuals:                    5086   BIC:                                      5923.\n",
      "Df Model:                          26                                                  \n",
      "Covariance Type:              cluster                                                  \n",
      "==============================================================================\n",
      "                 coef    std err          z      P>|z|      [0.025      0.975]\n",
      "------------------------------------------------------------------------------\n",
      "loyal          0.0582      0.046      1.257      0.209      -0.033       0.149\n",
      "17020          0.1348      0.041      3.294      0.001       0.055       0.215\n",
      "17030          0.3393      0.041      8.344      0.000       0.260       0.419\n",
      "17040          0.2662      0.041      6.439      0.000       0.185       0.347\n",
      "17050          0.2413      0.038      6.402      0.000       0.167       0.315\n",
      "17060          0.2762      0.042      6.505      0.000       0.193       0.359\n",
      "17070          0.1461      0.036      4.080      0.000       0.076       0.216\n",
      "18010         -0.0582      0.046     -1.257      0.209      -0.149       0.033\n",
      "18040         -0.0582      0.046     -1.257      0.209      -0.149       0.033\n",
      "18070          0.2937      0.035      8.332      0.000       0.225       0.363\n",
      "19010          0.2223      0.041      5.377      0.000       0.141       0.303\n",
      "19020          0.2997      0.036      8.356      0.000       0.229       0.370\n",
      "19030          0.1191      0.041      2.914      0.004       0.039       0.199\n",
      "19040          0.3129      0.033      9.531      0.000       0.249       0.377\n",
      "19050          0.1384      0.030      4.643      0.000       0.080       0.197\n",
      "19060          0.3287      0.036      9.213      0.000       0.259       0.399\n",
      "19070          0.4604      0.032     14.599      0.000       0.399       0.522\n",
      "19080          0.2000      0.036      5.571      0.000       0.130       0.270\n",
      "19090          0.0353      0.030      1.183      0.237      -0.023       0.094\n",
      "29010          0.1102      0.035      3.169      0.002       0.042       0.178\n",
      "29020         -0.0541      0.043     -1.257      0.209      -0.138       0.030\n",
      "29030          0.5449      0.040     13.477      0.000       0.466       0.624\n",
      "31030          0.0894      0.032      2.776      0.006       0.026       0.153\n",
      "31060          0.4138      0.040     10.254      0.000       0.335       0.493\n",
      "31090          0.1867      0.034      5.524      0.000       0.120       0.253\n",
      "46090          0.2091      0.023      9.254      0.000       0.165       0.253\n",
      "==============================================================================\n",
      "Omnibus:                      777.545   Durbin-Watson:                   2.015\n",
      "Prob(Omnibus):                  0.000   Jarque-Bera (JB):              842.122\n",
      "Skew:                           0.937   Prob(JB):                    1.37e-183\n",
      "Kurtosis:                       2.334   Cond. No.                         17.1\n",
      "==============================================================================\n",
      "\n",
      "Warnings:\n",
      "[1] Standard Errors are robust to cluster correlation (cluster)\n",
      "(yhat_loyal - yhat_notloyal) =  0.06481029798691884\n",
      "(yhat_loyal - yhat_notloyal)/yhat_notloyal =  0.32073323156375655\n"
     ]
    },
    {
     "name": "stderr",
     "output_type": "stream",
     "text": [
      "C:\\Users\\cilin\\AppData\\Local\\Continuum\\anaconda3\\lib\\site-packages\\statsmodels\\base\\model.py:1752: ValueWarning: covariance of constraints does not have full rank. The number of constraints is 26, but rank is 18\n",
      "  'rank is %d' % (J, J_), ValueWarning)\n"
     ]
    }
   ],
   "source": [
    "# create dependent variable\n",
    "#df_temp = df[(df.nr_companies==1) | (df.nr_companies==2)]\n",
    "df_temp = df\n",
    "df_temp['nr_companies'] = np.where(df_temp.nr_companies==1, 1, 0)\n",
    "y = df_temp[\"nr_companies\"]\n",
    "\n",
    "# create explanatory variables\n",
    "X = df_temp[['loyal']]\n",
    "\n",
    "# create dummy variables     \n",
    "crd_fe = pd.get_dummies(df[\"crd\"], drop_first = True) \n",
    "\n",
    "# join explanatory and dummy variables\n",
    "X = X.join(crd_fe)\n",
    "\n",
    "# fit the model\n",
    "model = sm.OLS(y, X).fit(cov_type ='cluster', cov_kwds={'groups':df_temp['crd']}) \n",
    "print(model.summary())\n",
    "\n",
    "# get predictions (all)\n",
    "yhat = pd.DataFrame(model.predict(X))\n",
    "\n",
    "# get predictions (loyal=1)\n",
    "yhat_loyal = pd.concat([X.iloc[:,0], yhat], axis=1)\n",
    "yhat_loyal = yhat_loyal[yhat_loyal.loyal==1]\n",
    "yhat_loyal.rename(columns = {0: 'yhat'}, inplace=True)\n",
    "\n",
    "# get predictions (loyal = 0)\n",
    "yhat_notloyal = pd.concat([X.iloc[:,0], yhat], axis=1)\n",
    "yhat_notloyal = yhat_notloyal[yhat_notloyal.loyal==0]\n",
    "yhat_notloyal.rename(columns = {0: 'yhat'}, inplace=True)\n",
    "\n",
    "# print results\n",
    "print('(yhat_loyal - yhat_notloyal) = ', yhat_loyal.yhat.mean()- yhat_notloyal.yhat.mean())\n",
    "print('(yhat_loyal - yhat_notloyal)/yhat_notloyal = ', (yhat_loyal.yhat.mean()- yhat_notloyal.yhat.mean())/yhat_notloyal.yhat.mean())"
   ]
  },
  {
   "cell_type": "markdown",
   "metadata": {},
   "source": [
    "2) multinomial logistic regression"
   ]
  },
  {
   "cell_type": "code",
   "execution_count": 26,
   "metadata": {},
   "outputs": [
    {
     "name": "stdout",
     "output_type": "stream",
     "text": [
      "Prediction performance on train 0.7408187838651414\n",
      "Prediction performance on test 0.741340782122905\n",
      "Warning: Maximum number of iterations has been exceeded.\n",
      "         Current function value: 0.546277\n",
      "         Iterations: 35\n",
      "         Function evaluations: 37\n",
      "         Gradient evaluations: 37\n"
     ]
    },
    {
     "name": "stderr",
     "output_type": "stream",
     "text": [
      "C:\\Users\\cilin\\AppData\\Local\\Continuum\\anaconda3\\lib\\site-packages\\statsmodels\\base\\model.py:512: ConvergenceWarning: Maximum Likelihood optimization failed to converge. Check mle_retvals\n",
      "  \"Check mle_retvals\", ConvergenceWarning)\n"
     ]
    }
   ],
   "source": [
    "# create dependent variable\n",
    "Y = df[\"nr_companies\"]\n",
    "\n",
    "# create explanatory variables\n",
    "X = df[['month']]\n",
    "\n",
    "# create dummy variables     \n",
    "crd_fe = pd.get_dummies(df[\"crd\"], drop_first = True) \n",
    "\n",
    "# join explanatory and dummy variables\n",
    "X = X.join(crd_fe)\n",
    "\n",
    "# create train and test data\n",
    "X_train, X_test, y_train, y_test = train_test_split(X, Y, test_size=0.35,\n",
    "                                                  random_state=1, stratify=Y)\n",
    "\n",
    "# fit model using sci-kit learn\n",
    "model2 = LogisticRegression(random_state=0, multi_class='multinomial', penalty='none', solver='newton-cg').fit(X_train, y_train)\n",
    "print(\"Prediction performance on train\", model2.score(X_train, y_train))\n",
    "print(\"Prediction performance on test\", model2.score(X_test, y_test))\n",
    "\n",
    "\n",
    "# fit using statsmodels package\n",
    "model2 = sm.MNLogit(Y, X).fit(method='bfgs')\n",
    "#model2.summary()"
   ]
  },
  {
   "cell_type": "code",
   "execution_count": 27,
   "metadata": {},
   "outputs": [
    {
     "data": {
      "text/plain": [
       "Text(0, 0.5, 'coeficient estimates: odds_ratio')"
      ]
     },
     "execution_count": 27,
     "metadata": {},
     "output_type": "execute_result"
    },
    {
     "data": {
      "image/png": "[encoded data removed]",
      "text/plain": [
       "<Figure size 720x360 with 1 Axes>"
      ]
     },
     "metadata": {
      "needs_background": "light"
     },
     "output_type": "display_data"
    }
   ],
   "source": [
    "## plot params of multinomial logit model (using statsmodels package)\n",
    "# get params\n",
    "params = np.exp(model2.params)\n",
    "params = model_params_cleaning(params)\n",
    "    \n",
    "# get ci\n",
    "ci = np.exp(model2._results.conf_int())\n",
    "ci = model_ci_cleaning(ci)\n",
    "\n",
    "# concat params and ci\n",
    "param_ci = params.merge(ci, on='companies', how = 'left')\n",
    "\n",
    "# get params with error bars\n",
    "coef_df = model_error_bar(param_ci)\n",
    "coef_df\n",
    "\n",
    "## markers/labels to use\n",
    "marker_list = ['o']\n",
    "marker_color = ['darkkhaki']\n",
    "#coef_df = coef_df.reset_index()\n",
    "varname = coef_df.companies.unique()\n",
    "x_labels = ['2', '3', '4', '5', '6', '7', '8', '9', '10']\n",
    "\n",
    "width = 0.10\n",
    "\n",
    "## define x base (4 covariates in total)\n",
    "base_x = pd.np.arange(len(varname)) \n",
    "base_x\n",
    "\n",
    "# plot graphs\n",
    "fig, ax = plt.subplots(figsize=(10, 5))\n",
    "    \n",
    "# sort params in order\n",
    "coef_df = coef_df.set_index('companies').reindex(varname)\n",
    "    \n",
    "# plot bars\n",
    "X = base_x + width \n",
    "ax.bar(X, coef_df['coef'], color='none', yerr=coef_df['ci_0'], width=0.2)\n",
    "    \n",
    "# plot markers\n",
    "ax.scatter(x=X,  marker=marker_list[0], s=110, \n",
    "               y=coef_df['coef'], color=marker_color[0])\n",
    "\n",
    "# add vertical and horizontal lines\n",
    "ax.axhline(y=1, linewidth=1, color='grey')\n",
    "ax.axvline(x=0.6, linestyle='--', linewidth=1, color='grey')\n",
    "ax.axvline(x=1.6, linestyle='--', linewidth=1, color='grey')\n",
    "ax.axvline(x=2.6, linestyle='--', linewidth=1, color='grey')\n",
    "ax.axvline(x=3.6, linestyle='--', linewidth=1, color='grey')\n",
    "ax.axvline(x=4.6, linestyle='--', linewidth=1, color='grey')\n",
    "ax.axvline(x=5.6, linestyle='--', linewidth=1, color='grey')\n",
    "ax.axvline(x=6.6, linestyle='--', linewidth=1, color='grey')\n",
    "ax.axvline(x=7.6, linestyle='--', linewidth=1, color='grey')\n",
    "\n",
    "# set ax visibility\n",
    "ax.spines[\"top\"].set_visible(False)\n",
    "ax.spines[\"right\"].set_visible(False)\n",
    "ax.spines[\"left\"].set_visible(False)\n",
    "ax.spines['bottom'].set_color('dimgrey')\n",
    "\n",
    "# add title, labels, legend \n",
    "ax.set_title(' Model = Multinomial Logit; Reference level = 1 company \\n (Fringe region, SE clustered at CRD level, CRD FE included)\\n', fontsize=16)\n",
    "ax.xaxis.set_ticks_position('none')\n",
    "ax.set_xticks(np.arange(len(x_labels)))\n",
    "ax.set_xticklabels(x_labels, rotation=0, fontsize=12)\n",
    "#ax.set_ylim(0.5, 1.2)\n",
    "#ax.set_yticks(np.arange(0.5, 1.3, 0.2))\n",
    "plt.xlabel('number of companies')\n",
    "plt.ylabel('coeficient estimates: odds_ratio')"
   ]
  },
  {
   "cell_type": "markdown",
   "metadata": {},
   "source": [
    "#### Step 5: Bayes rule"
   ]
  },
  {
   "cell_type": "code",
   "execution_count": 28,
   "metadata": {},
   "outputs": [],
   "source": [
    "df['counts'] = 1"
   ]
  },
  {
   "cell_type": "markdown",
   "metadata": {},
   "source": [
    "compute posterior probabilities"
   ]
  },
  {
   "cell_type": "code",
   "execution_count": 29,
   "metadata": {},
   "outputs": [
    {
     "data": {
      "text/html": [
       "<div>\n",
       "<style scoped>\n",
       "    .dataframe tbody tr th:only-of-type {\n",
       "        vertical-align: middle;\n",
       "    }\n",
       "\n",
       "    .dataframe tbody tr th {\n",
       "        vertical-align: top;\n",
       "    }\n",
       "\n",
       "    .dataframe thead th {\n",
       "        text-align: right;\n",
       "    }\n",
       "</style>\n",
       "<table border=\"1\" class=\"dataframe\">\n",
       "  <thead>\n",
       "    <tr style=\"text-align: right;\">\n",
       "      <th></th>\n",
       "      <th>year</th>\n",
       "      <th>counts</th>\n",
       "      <th>post_prob</th>\n",
       "    </tr>\n",
       "  </thead>\n",
       "  <tbody>\n",
       "    <tr>\n",
       "      <th>0</th>\n",
       "      <td>2004</td>\n",
       "      <td>1673</td>\n",
       "      <td>0.327269</td>\n",
       "    </tr>\n",
       "    <tr>\n",
       "      <th>1</th>\n",
       "      <td>2005</td>\n",
       "      <td>1824</td>\n",
       "      <td>0.356808</td>\n",
       "    </tr>\n",
       "    <tr>\n",
       "      <th>2</th>\n",
       "      <td>2006</td>\n",
       "      <td>1615</td>\n",
       "      <td>0.315923</td>\n",
       "    </tr>\n",
       "  </tbody>\n",
       "</table>\n",
       "</div>"
      ],
      "text/plain": [
       "   year  counts  post_prob\n",
       "0  2004    1673   0.327269\n",
       "1  2005    1824   0.356808\n",
       "2  2006    1615   0.315923"
      ]
     },
     "execution_count": 29,
     "metadata": {},
     "output_type": "execute_result"
    }
   ],
   "source": [
    "post_prob = df.groupby(['year'], as_index=False)['counts'].count()\n",
    "post_prob['post_prob'] = post_prob.counts/df.shape[0]\n",
    "post_prob.head()"
   ]
  },
  {
   "cell_type": "markdown",
   "metadata": {},
   "source": [
    "compute conditional probabilities"
   ]
  },
  {
   "cell_type": "code",
   "execution_count": 30,
   "metadata": {},
   "outputs": [],
   "source": [
    "cond_prob = df.groupby(['year', 'nr_companies'], as_index=False)['counts'].count()\n",
    "\n",
    "temp = cond_prob.groupby(['year'], as_index=False)['counts'].sum()\n",
    "\n",
    "cond_prob['counts_year'] = np.where(cond_prob.year==2004, temp[temp.year==2004].counts.values, \n",
    "                                   np.where(cond_prob.year==2005, temp[temp.year==2005].counts.values, temp[temp.year==2006].counts.values))\n",
    "\n",
    "cond_prob['cond_prob'] = cond_prob.counts/cond_prob.counts_year\n",
    "\n",
    "# keep only for one company\n",
    "cond_prob = cond_prob[cond_prob.nr_companies==1]"
   ]
  },
  {
   "cell_type": "markdown",
   "metadata": {},
   "source": [
    "compute conditional probabilities x posterior probabilities"
   ]
  },
  {
   "cell_type": "code",
   "execution_count": 31,
   "metadata": {},
   "outputs": [
    {
     "data": {
      "text/html": [
       "<div>\n",
       "<style scoped>\n",
       "    .dataframe tbody tr th:only-of-type {\n",
       "        vertical-align: middle;\n",
       "    }\n",
       "\n",
       "    .dataframe tbody tr th {\n",
       "        vertical-align: top;\n",
       "    }\n",
       "\n",
       "    .dataframe thead th {\n",
       "        text-align: right;\n",
       "    }\n",
       "</style>\n",
       "<table border=\"1\" class=\"dataframe\">\n",
       "  <thead>\n",
       "    <tr style=\"text-align: right;\">\n",
       "      <th></th>\n",
       "      <th>year</th>\n",
       "      <th>nr_companies</th>\n",
       "      <th>counts_x</th>\n",
       "      <th>counts_year</th>\n",
       "      <th>cond_prob</th>\n",
       "      <th>counts_y</th>\n",
       "      <th>post_prob</th>\n",
       "      <th>cond_post_prob</th>\n",
       "    </tr>\n",
       "  </thead>\n",
       "  <tbody>\n",
       "    <tr>\n",
       "      <th>0</th>\n",
       "      <td>2004</td>\n",
       "      <td>1</td>\n",
       "      <td>446</td>\n",
       "      <td>1673</td>\n",
       "      <td>0.266587</td>\n",
       "      <td>1673</td>\n",
       "      <td>0.327269</td>\n",
       "      <td>0.087246</td>\n",
       "    </tr>\n",
       "    <tr>\n",
       "      <th>1</th>\n",
       "      <td>2005</td>\n",
       "      <td>1</td>\n",
       "      <td>464</td>\n",
       "      <td>1824</td>\n",
       "      <td>0.254386</td>\n",
       "      <td>1824</td>\n",
       "      <td>0.356808</td>\n",
       "      <td>0.090767</td>\n",
       "    </tr>\n",
       "    <tr>\n",
       "      <th>2</th>\n",
       "      <td>2006</td>\n",
       "      <td>1</td>\n",
       "      <td>423</td>\n",
       "      <td>1615</td>\n",
       "      <td>0.261920</td>\n",
       "      <td>1615</td>\n",
       "      <td>0.315923</td>\n",
       "      <td>0.082746</td>\n",
       "    </tr>\n",
       "  </tbody>\n",
       "</table>\n",
       "</div>"
      ],
      "text/plain": [
       "   year  nr_companies  counts_x  counts_year  cond_prob  counts_y  post_prob  \\\n",
       "0  2004             1       446         1673   0.266587      1673   0.327269   \n",
       "1  2005             1       464         1824   0.254386      1824   0.356808   \n",
       "2  2006             1       423         1615   0.261920      1615   0.315923   \n",
       "\n",
       "   cond_post_prob  \n",
       "0        0.087246  \n",
       "1        0.090767  \n",
       "2        0.082746  "
      ]
     },
     "execution_count": 31,
     "metadata": {},
     "output_type": "execute_result"
    }
   ],
   "source": [
    "numerator = cond_prob.merge(post_prob, on='year', how='left')\n",
    "numerator['cond_post_prob'] = numerator.cond_prob * numerator.post_prob\n",
    "numerator.head()"
   ]
  },
  {
   "cell_type": "code",
   "execution_count": 32,
   "metadata": {},
   "outputs": [],
   "source": [
    "denominator = 0\n",
    "for i in numerator.index:\n",
    "    denominator += numerator.loc[i, 'cond_post_prob']"
   ]
  },
  {
   "cell_type": "code",
   "execution_count": 33,
   "metadata": {},
   "outputs": [
    {
     "data": {
      "text/plain": [
       "0    0.334584\n",
       "1    0.348087\n",
       "2    0.317329\n",
       "Name: cond_post_prob, dtype: float64"
      ]
     },
     "execution_count": 33,
     "metadata": {},
     "output_type": "execute_result"
    }
   ],
   "source": [
    "numerator.cond_post_prob/denominator"
   ]
  }
 ],
 "metadata": {
  "kernelspec": {
   "display_name": "Python 3",
   "language": "python",
   "name": "python3"
  },
  "language_info": {
   "codemirror_mode": {
    "name": "ipython",
    "version": 3
   },
   "file_extension": ".py",
   "mimetype": "text/x-python",
   "name": "python",
   "nbconvert_exporter": "python",
   "pygments_lexer": "ipython3",
   "version": "3.7.3"
  }
 },
 "nbformat": 4,
 "nbformat_minor": 4
}
