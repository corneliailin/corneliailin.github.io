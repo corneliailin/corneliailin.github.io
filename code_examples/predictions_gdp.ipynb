{
 "cells": [
  {
   "cell_type": "markdown",
   "metadata": {},
   "source": [
    "### GDP and Gov Exo: Predictive Analysis\n",
    "\n",
    "Author: Cornelia Ilin <br>\n",
    "Email: cilin@ischool.berkeley.edu <br>\n",
    "Date created: November 25, 2020\n",
    "\n",
    "\n",
    "Citations: <br>\n",
    "\n",
    "   - GDP data (nominal value, national currency): \n",
    "    https://data.imf.org/?sk=4c514d48-b6ba-49ed-8ab9-52b0c1a0179b&sId=1409151240976\n",
    "   \n",
    "   - GDP components data (nominal value, current prices, non-seasonally adjusted, national currency)\n",
    "   https://data.imf.org/regular.aspx?key=61545852\n",
    "   \n",
    "   - US GDP for 2020Q2 imputed from here: \n",
    "   https://www.bea.gov/news/2020/gross-domestic-product-third-estimate-corporate-profits-revised-and-gdp-industry-third"
   ]
  },
  {
   "cell_type": "markdown",
   "metadata": {},
   "source": [
    "#### Step 1: Import packages"
   ]
  },
  {
   "cell_type": "code",
   "execution_count": 1,
   "metadata": {},
   "outputs": [],
   "source": [
    "# standard\n",
    "import pandas as pd\n",
    "import numpy as np\n",
    "import os\n",
    "\n",
    "# analysis\n",
    "import statsmodels.api as sm\n",
    "from statsmodels.tools.eval_measures import rmse\n",
    "import patsy\n",
    "\n",
    "# plots\n",
    "import matplotlib.pyplot as plt\n",
    "from matplotlib.pyplot import cm\n",
    "import seaborn as sns\n",
    "\n",
    "# ignore warnings\n",
    "import warnings\n",
    "warnings.filterwarnings('ignore')"
   ]
  },
  {
   "cell_type": "markdown",
   "metadata": {},
   "source": [
    "#### Step 2: Define working directories"
   ]
  },
  {
   "cell_type": "code",
   "execution_count": 2,
   "metadata": {},
   "outputs": [],
   "source": [
    "# in dirs\n",
    "in_gdp_w2020 = '/Users/cilin/Dropbox/GPL_CDC_covid/data/reg/gdp/w_2020_data/'\n",
    "\n",
    "# out dirs\n",
    "out_dir = '/Users/cilin/Dropbox/GPL_CDC_covid/results/reg/gdp/'"
   ]
  },
  {
   "cell_type": "markdown",
   "metadata": {},
   "source": [
    "#### Step 3: Define functions"
   ]
  },
  {
   "cell_type": "markdown",
   "metadata": {},
   "source": [
    "``read data``"
   ]
  },
  {
   "cell_type": "code",
   "execution_count": 3,
   "metadata": {},
   "outputs": [],
   "source": [
    "def read_gdp_w2020():\n",
    "    '''\n",
    "    '''\n",
    "    return pd.read_csv(in_gdp_w2020 + 'gdp_reg_data.csv')"
   ]
  },
  {
   "cell_type": "markdown",
   "metadata": {},
   "source": [
    "``predictions``"
   ]
  },
  {
   "cell_type": "code",
   "execution_count": 4,
   "metadata": {},
   "outputs": [],
   "source": [
    "def predictions(df):\n",
    "    '''\n",
    "    '''\n",
    "    df_predict = concat_model_fit(df)\n",
    "    \n",
    "    # clean\n",
    "    df_predict.sort_values(by=['country', 'year', 'quarter', 'pred_scenario'], inplace=True)\n",
    "    df_predict.drop(columns=['year', 'quarter'], inplace=True)\n",
    "    \n",
    "    return df_predict"
   ]
  },
  {
   "cell_type": "code",
   "execution_count": 5,
   "metadata": {},
   "outputs": [],
   "source": [
    "def concat_model_fit(df):\n",
    "    '''\n",
    "    '''\n",
    "    models = ['policy only (policy sample)',\n",
    "              'policy, cases and mobility (mobility sample)']\n",
    "\n",
    "    results_df = pd.DataFrame()\n",
    "    \n",
    "    for model in models:\n",
    "        if model=='policy only (policy sample)':\n",
    "            # run a model only with policy controls (df cleaned based on policy data)\n",
    "            temp_df = df\n",
    "            # fit the model\n",
    "            temp_results = model_fit(temp_df, vars_type='policy')\n",
    "            temp_results['model'] = model\n",
    "            # append to results_df\n",
    "            results_df = pd.concat([results_df, temp_results], axis=0)\n",
    "            continue\n",
    "            \n",
    "\n",
    "        if model=='policy, cases and mobility (mobility sample)':\n",
    "            # run a model with policy and mobility controls (df cleaned based on mobility data)\n",
    "            temp_df = df[df.no_mob_data==0]\n",
    "            # fit the model\n",
    "            temp_results = model_fit(temp_df, vars_type='policy, cases and mobility')\n",
    "            temp_results['model'] = model\n",
    "            # append to results_df\n",
    "            results_df = pd.concat([results_df, temp_results], axis=0)\n",
    "    \n",
    "    return results_df"
   ]
  },
  {
   "cell_type": "code",
   "execution_count": 6,
   "metadata": {},
   "outputs": [],
   "source": [
    "def model_fit(df, vars_type):\n",
    "    '''\n",
    "    params:\n",
    "    ------\n",
    "    df: df with GDP and Gov Exp data + policies + mobility\n",
    "    vars_type: str, indicate if the model should have only policy variables, or policy and mobility vars\n",
    "    scenario: str, indicates if predictions should have no controls or controls (policy and/or mobility vars)\n",
    "    outcome: str, GDP or Gov Exp\n",
    "    \n",
    "    \n",
    "    return:\n",
    "    ------\n",
    "    df with prediction results\n",
    "    '''\n",
    "    df.reset_index(drop=True, inplace=True)\n",
    "    \n",
    "    # build the Y, X np.arrays\n",
    "    Y, X_p, X_np = model_vars(df, vars_type)\n",
    "    X = [X_p, X_np]\n",
    "\n",
    "    # fit the model\n",
    "    model = sm.OLS(Y, X_p).fit(cov_type ='cluster', cov_kwds={'groups':df['country']}) \n",
    "    #print(model.summary())\n",
    "    \n",
    "    # predictions #\n",
    "    ################\n",
    "    outcome = 'GDP_2020USD'\n",
    "    new_col = 'pred_GDP_2020USD'\n",
    "    \n",
    "    df_predict = pd.DataFrame()\n",
    "\n",
    "    for idx, val in enumerate(['policy', 'no policy']):\n",
    "        temp_df = df\n",
    "\n",
    "        # find y_hat\n",
    "        prediction = model.get_prediction(X[idx]).summary_frame()\n",
    "        #temp_df = pd.concat([temp_df, prediction[['mean', 'mean_ci_lower', 'mean_ci_upper']]], axis=1)\n",
    "        temp_df = pd.concat([temp_df, prediction[['mean']]], axis=1)\n",
    "        temp_df.rename(columns={'mean':'pred_l_GDP_2020USD'}, inplace=True)\n",
    "        \n",
    "        ##############################################################\n",
    "        # Apply correction as in (see source bellow)\n",
    "        #https://blog.stata.com/2011/08/22/use-poisson-rather-than-regress-tell-a-friend/\n",
    "        \n",
    "        # get RMSE\n",
    "        Ypred = pd.DataFrame(temp_df['pred_l_GDP_2020USD'])\n",
    "        RMSE = rmse(Y, Ypred)\n",
    "        print(RMSE)\n",
    "        \n",
    "        # exponentiate\n",
    "        temp_df[new_col] = np.exp(temp_df['pred_l_GDP_2020USD']) \n",
    "    \n",
    "        # multiply by square of RMSE and divide by 2\n",
    "        temp_df[new_col] = temp_df[new_col] * np.exp((RMSE * RMSE)/2)\n",
    "        ################################################################\n",
    "            \n",
    "        # compute pct error\n",
    "        temp_df['pct_error'] = ((temp_df[new_col] - temp_df[outcome])/temp_df[outcome])*100\n",
    "    \n",
    "        # add column to specify model\n",
    "        temp_df['pred_scenario'] = val\n",
    "        \n",
    "        \n",
    "        # concatenate no controls and controls results\n",
    "        df_predict = pd.concat([df_predict, temp_df], axis=0)\n",
    "        \n",
    "        # keep only vars of interest\n",
    "        #columns = ['who_region', 'iso2', 'country', 'year', 'quarter', 'year_quarter',\n",
    "        #           outcome, new_col, new_col+'_ci0', new_col+'_ci1', 'pred_scenario', 'pct_error']\n",
    "        columns = ['iso2', 'country', 'year', 'quarter', 'year_quarter',\n",
    "                   outcome, new_col, 'l_GDP_2020USD', 'pred_l_GDP_2020USD', 'pred_scenario', 'pct_error']\n",
    "    \n",
    "    return df_predict[columns]"
   ]
  },
  {
   "cell_type": "code",
   "execution_count": 7,
   "metadata": {},
   "outputs": [],
   "source": [
    "def model_vars(df, vars_type):\n",
    "    '''\n",
    "    '''\n",
    "    df.reset_index(drop=True, inplace=True)\n",
    "    \n",
    "    # create FE and interactions between FE and continous vars\n",
    "    f = 'l_GDP_2020USD ~ iso2 + quarter + year_trend * C(iso2_quarter)'\n",
    "    Y, X_fe = patsy.dmatrices(f, df, return_type='dataframe')\n",
    "    \n",
    "    # create policies\n",
    "    policies = ('p_acadclose_sch_mand_on', \n",
    "                'p_acadclose_uni_mand_on',\n",
    "                'p_massgath_lt10_mand_on',\n",
    "                'p_massgath_gt10_mand_on',\n",
    "                'p_moverest_curf_mand_on', \n",
    "                'p_moverest_stayh_mand_on', \n",
    "                'p_moverest_stayh_mand_off',\n",
    "                'p_moverest_trnsp_mand_on',\n",
    "                'p_offclose_ent_mand_on', \n",
    "                'p_offclose_neb_mand_on', \n",
    "                'p_passscrn_entry_mand_on',\n",
    "                'p_ppe_mask_mand_on', \n",
    "                'p_reliclos_powp_mand_on',\n",
    "                'p_travrest_grp_mand_on')\n",
    "        \n",
    "\n",
    "    on_off_policies = list(np.sort([col for col in df.columns if col.startswith(policies)]))\n",
    "    cases = ['new_cases_per100k']\n",
    "    mobility = ['mob_residential']\n",
    "    \n",
    "    if vars_type == 'policy':\n",
    "        X_vars = on_off_policies\n",
    "        \n",
    "        # policy model\n",
    "        X_p = pd.concat([df[X_vars], X_fe], axis=1)\n",
    "        \n",
    "        # no policy model\n",
    "        temp_X = pd.DataFrame(np.zeros((df[X_vars].shape[0], df[X_vars].shape[1]))) # create empty policy data\n",
    "        temp_X.columns = X_vars # rename columns\n",
    "        X_np = pd.concat([temp_X, X_fe], axis=1)\n",
    "        \n",
    "    if vars_type == 'policy, cases and mobility':\n",
    "        X_vars = on_off_policies + cases + mobility\n",
    "        \n",
    "        # policy model\n",
    "        X_p = pd.concat([df[X_vars], X_fe], axis=1)\n",
    "        \n",
    "        # no policy model\n",
    "        temp_X = pd.DataFrame(np.zeros((df[X_vars].shape[0], df[X_vars].shape[1]))) # create empty policy data\n",
    "        temp_X.columns = X_vars # rename columns\n",
    "        X_np = pd.concat([temp_X, X_fe], axis=1)\n",
    "    \n",
    "    \n",
    "    return Y, X_p, X_np"
   ]
  },
  {
   "cell_type": "markdown",
   "metadata": {},
   "source": [
    "``plots``"
   ]
  },
  {
   "cell_type": "code",
   "execution_count": 8,
   "metadata": {},
   "outputs": [],
   "source": [
    "def pred_actual_plot(df, model, region, plot_type):\n",
    "    '''\n",
    "    '''\n",
    "    \n",
    "    ## organize data for graph purposes ##\n",
    "    ######################################\n",
    "    outcome = 'GDP_2020USD'\n",
    "    predicted = 'pred_GDP_2020USD'\n",
    "    \n",
    "    # mean plots\n",
    "    returns = 'mean'\n",
    "    df_mean = helper_pred_plot(df, model, region, returns)\n",
    "    print(df_mean[predicted].mean())\n",
    "    returns = 'all'\n",
    "    df_all = helper_pred_plot(df, model, region, returns)\n",
    "    \n",
    "    # transform to billions\n",
    "    df_mean[predicted] = df_mean[predicted]/1000\n",
    "    df_all[predicted] = df_all[predicted]/1000\n",
    "    print(df_mean[predicted].mean())\n",
    "    \n",
    "    # initialize new figure\n",
    "    sns.set(rc={})\n",
    "    sns.set_context(\"paper\", font_scale=1.5, rc={\"lines.linewidth\": 1})\n",
    "    \n",
    "    # set colors\n",
    "    colors = ['orangered', 'navy', 'black']\n",
    "    \n",
    "    # plot mean\n",
    "    ax = sns.catplot(x='year_quarter', y=predicted, hue='pred_scenario', data=df_mean, \n",
    "                     kind=plot_type, legend=False, palette=sns.color_palette(colors), s=5,\n",
    "                     markers=[\"d\", \"s\", 'v'], \n",
    "                     linestyles = ['-.', '--', '-'])\n",
    "    \n",
    "    # plot bars\n",
    "    '''\n",
    "    for country in df_all.country.unique():\n",
    "        #if country in ['France', 'Germany', 'Nethelands', 'Romania']:\n",
    "            df_all_temp = df_all[(df_all.pred_scenario== 'no policy (pred)') & (df_all.country==country)]\n",
    "            for c_mean, c0, c1, yq in zip(df_all_temp['pred_'+outcome],\n",
    "                                          df_all_temp['pred_'+outcome+'_ci0'], df_all_temp['pred_'+outcome+'_ci1'], \n",
    "                                  range(len(df_all_temp.year_quarter.unique()))):\n",
    "                plt.plot((yq, yq), (c0, c1), color='lightcoral')\n",
    "                plt.scatter((yq), (c_mean), color='lightcoral', s=2)\n",
    "            \n",
    "    for country in df_all.country.unique():\n",
    "        #if country in ['France', 'Germany', 'Romania']:\n",
    "            df_all_temp = df_all[(df_all.pred_scenario== 'policy (pred)') & (df_all.country==country)]\n",
    "            for c_mean, c0, c1, yq in zip(df_all_temp['pred_'+outcome],\n",
    "                                          df_all_temp['pred_'+outcome+'_ci0'], df_all_temp['pred_'+outcome+'_ci1'], \n",
    "                                  range(len(df_all_temp.year_quarter.unique()))):\n",
    "                plt.plot((yq, yq), (c0, c1), color='blue')\n",
    "                plt.scatter((yq), (c_mean), color='blue', s=2)\n",
    "    '''                 \n",
    "    \n",
    "    # set figure size\n",
    "    ax.fig.set_figwidth(12)\n",
    "    ax.fig.set_figheight(4)\n",
    "    #ax.fig.set_figwidth(14)\n",
    "    #ax.fig.set_figheight(5)\n",
    "\n",
    "    # set title, axes\n",
    "    plt.title('Average ' + region + ' predictions\\n' + 'controls: ' + model, fontsize = 14)\n",
    "    \n",
    "    for ax in ax.axes.flat:\n",
    "        labels = ax.get_xticklabels() # get x labels\n",
    "        for i,l in enumerate(labels):\n",
    "            if i in np.arange(0,365, 1):\n",
    "                labels[i] = l\n",
    "            else:\n",
    "                labels[i] = ''\n",
    "        ax.set_xticklabels(labels, rotation=60) # set new labels\n",
    "    \n",
    "    plt.ylabel('GDP (2020USD, billions)')\n",
    "    plt.xlabel('Year-Quarter')\n",
    "    plt.legend(loc='upper left')\n",
    "    \n",
    "    #plt.ylim(9.8, 11)\n",
    "    #plt.ylim(10, 10.8)\n",
    "    #plt.ylim(10, 11.2)\n",
    "    #plt.ylim(150, 300)"
   ]
  },
  {
   "cell_type": "code",
   "execution_count": 9,
   "metadata": {},
   "outputs": [],
   "source": [
    "def helper_pred_plot(df, model, region, returning):\n",
    "    '''\n",
    "    '''\n",
    "    outcome = 'GDP_2020USD'\n",
    "    predicted = 'pred_GDP_2020USD'\n",
    "    \n",
    "    # keep only the model of interest\n",
    "    if region == 'World':\n",
    "        df = df[df.model==model]\n",
    "    else:\n",
    "        df = df[(df.model==model) & (df.who_region==region)]\n",
    "    \n",
    "    \n",
    "    ## create 3 types of models: \n",
    "    ## no controls (predicted), controls(predicted), controls (observed) ##\n",
    "    #######################################################################\n",
    "    columns1 = ['iso2', 'country', 'year_quarter', predicted, 'pred_scenario']\n",
    "    columns2 = ['iso2', 'country', 'year_quarter', outcome, 'pred_scenario']\n",
    "\n",
    "    # no controls (predicted)\n",
    "    no_controls = df[df.pred_scenario=='no policy']\n",
    "    no_controls = no_controls[columns1]\n",
    "    no_controls['pred_scenario'] = 'no policy (pred)'\n",
    "\n",
    "    # controls (predicted)\n",
    "    controls = df[df.pred_scenario=='policy']\n",
    "    controls = controls[columns1]\n",
    "    controls['pred_scenario'] = 'policy (pred)'\n",
    "\n",
    "    # controls (actual)\n",
    "    actual = df[df.pred_scenario=='policy']\n",
    "    actual = actual[columns2]\n",
    "    actual['pred_scenario'] = 'policy (actual)'\n",
    "    actual.rename(columns={outcome: predicted}, inplace=True) #this is just to concatenate the data together but it's the actual GDP not the predicted one\n",
    "\n",
    "    df = pd.concat([no_controls, controls, actual], axis=0)\n",
    "    df.sort_values(by=['year_quarter', 'pred_scenario'], inplace=True)\n",
    "\n",
    "    ## report mean cases by day (mean across countries)##\n",
    "    #####################################################\n",
    "    df_mean = df.groupby(['year_quarter', 'pred_scenario'], as_index=False)[predicted].sum()  \n",
    "    #df_mean = df.groupby(['year_quarter', 'pred_scenario'], as_index=False)[predicted].mean()\n",
    "    df_mean.sort_values(by=['year_quarter', 'pred_scenario'], inplace=True)\n",
    "\n",
    "    # rearange by type of pred_scenario\n",
    "    df_mean = pd.concat([df_mean[df_mean.pred_scenario=='no policy (pred)'],\n",
    "                        df_mean[df_mean.pred_scenario=='policy (pred)'],\n",
    "                        df_mean[df_mean.pred_scenario=='policy (actual)']], axis=0)\n",
    "\n",
    "    df_mean.reset_index(drop=True, inplace=True)\n",
    "    \n",
    "        \n",
    "    if returning=='mean':\n",
    "        return df_mean\n",
    "    \n",
    "    if returning=='all':\n",
    "        return df\n"
   ]
  },
  {
   "cell_type": "markdown",
   "metadata": {},
   "source": [
    "#### Step 4: Read data"
   ]
  },
  {
   "cell_type": "code",
   "execution_count": 10,
   "metadata": {},
   "outputs": [
    {
     "data": {
      "text/html": [
       "<div>\n",
       "<style scoped>\n",
       "    .dataframe tbody tr th:only-of-type {\n",
       "        vertical-align: middle;\n",
       "    }\n",
       "\n",
       "    .dataframe tbody tr th {\n",
       "        vertical-align: top;\n",
       "    }\n",
       "\n",
       "    .dataframe thead th {\n",
       "        text-align: right;\n",
       "    }\n",
       "</style>\n",
       "<table border=\"1\" class=\"dataframe\">\n",
       "  <thead>\n",
       "    <tr style=\"text-align: right;\">\n",
       "      <th></th>\n",
       "      <th>Unnamed: 0</th>\n",
       "      <th>who_region</th>\n",
       "      <th>country</th>\n",
       "      <th>iso2</th>\n",
       "      <th>year_quarter</th>\n",
       "      <th>nat_pop</th>\n",
       "      <th>new_cases_imputed</th>\n",
       "      <th>mob_residential</th>\n",
       "      <th>who_region_y</th>\n",
       "      <th>GDP</th>\n",
       "      <th>...</th>\n",
       "      <th>p_travquar_rec_mand_off_popwt_qwt</th>\n",
       "      <th>p_travrest_airprt_mand_off_popwt_qwt</th>\n",
       "      <th>p_travrest_airprt_rec_mand_off_popwt_qwt</th>\n",
       "      <th>p_travrest_flght_mand_off_popwt_qwt</th>\n",
       "      <th>p_travrest_flght_rec_mand_off_popwt_qwt</th>\n",
       "      <th>p_travrest_tradv_mand_off_popwt_qwt</th>\n",
       "      <th>p_travrest_tradv_rec_mand_off_popwt_qwt</th>\n",
       "      <th>p_travrest_trban_mand_off_popwt_qwt</th>\n",
       "      <th>p_travrest_trban_rec_mand_off_popwt_qwt</th>\n",
       "      <th>p_travrest_grp_mand_on_popwt_qwt</th>\n",
       "    </tr>\n",
       "  </thead>\n",
       "  <tbody>\n",
       "    <tr>\n",
       "      <th>0</th>\n",
       "      <td>0</td>\n",
       "      <td>EURO</td>\n",
       "      <td>Albania</td>\n",
       "      <td>AL</td>\n",
       "      <td>2014Q1</td>\n",
       "      <td>0.0</td>\n",
       "      <td>0.0</td>\n",
       "      <td>0.0</td>\n",
       "      <td>EURO</td>\n",
       "      <td>315138.273418</td>\n",
       "      <td>...</td>\n",
       "      <td>0.0</td>\n",
       "      <td>0.0</td>\n",
       "      <td>0.0</td>\n",
       "      <td>0.0</td>\n",
       "      <td>0.0</td>\n",
       "      <td>0.0</td>\n",
       "      <td>0.0</td>\n",
       "      <td>0.0</td>\n",
       "      <td>0.0</td>\n",
       "      <td>0.0</td>\n",
       "    </tr>\n",
       "    <tr>\n",
       "      <th>1</th>\n",
       "      <td>1</td>\n",
       "      <td>EURO</td>\n",
       "      <td>Albania</td>\n",
       "      <td>AL</td>\n",
       "      <td>2014Q2</td>\n",
       "      <td>0.0</td>\n",
       "      <td>0.0</td>\n",
       "      <td>0.0</td>\n",
       "      <td>EURO</td>\n",
       "      <td>370523.883299</td>\n",
       "      <td>...</td>\n",
       "      <td>0.0</td>\n",
       "      <td>0.0</td>\n",
       "      <td>0.0</td>\n",
       "      <td>0.0</td>\n",
       "      <td>0.0</td>\n",
       "      <td>0.0</td>\n",
       "      <td>0.0</td>\n",
       "      <td>0.0</td>\n",
       "      <td>0.0</td>\n",
       "      <td>0.0</td>\n",
       "    </tr>\n",
       "  </tbody>\n",
       "</table>\n",
       "<p>2 rows × 94 columns</p>\n",
       "</div>"
      ],
      "text/plain": [
       "   Unnamed: 0 who_region  country iso2 year_quarter  nat_pop  \\\n",
       "0           0       EURO  Albania   AL       2014Q1      0.0   \n",
       "1           1       EURO  Albania   AL       2014Q2      0.0   \n",
       "\n",
       "   new_cases_imputed  mob_residential who_region_y            GDP  ...  \\\n",
       "0                0.0              0.0         EURO  315138.273418  ...   \n",
       "1                0.0              0.0         EURO  370523.883299  ...   \n",
       "\n",
       "   p_travquar_rec_mand_off_popwt_qwt p_travrest_airprt_mand_off_popwt_qwt  \\\n",
       "0                                0.0                                  0.0   \n",
       "1                                0.0                                  0.0   \n",
       "\n",
       "   p_travrest_airprt_rec_mand_off_popwt_qwt  \\\n",
       "0                                       0.0   \n",
       "1                                       0.0   \n",
       "\n",
       "  p_travrest_flght_mand_off_popwt_qwt p_travrest_flght_rec_mand_off_popwt_qwt  \\\n",
       "0                                 0.0                                     0.0   \n",
       "1                                 0.0                                     0.0   \n",
       "\n",
       "   p_travrest_tradv_mand_off_popwt_qwt  \\\n",
       "0                                  0.0   \n",
       "1                                  0.0   \n",
       "\n",
       "   p_travrest_tradv_rec_mand_off_popwt_qwt  \\\n",
       "0                                      0.0   \n",
       "1                                      0.0   \n",
       "\n",
       "   p_travrest_trban_mand_off_popwt_qwt  \\\n",
       "0                                  0.0   \n",
       "1                                  0.0   \n",
       "\n",
       "  p_travrest_trban_rec_mand_off_popwt_qwt  p_travrest_grp_mand_on_popwt_qwt  \n",
       "0                                     0.0                               0.0  \n",
       "1                                     0.0                               0.0  \n",
       "\n",
       "[2 rows x 94 columns]"
      ]
     },
     "execution_count": 10,
     "metadata": {},
     "output_type": "execute_result"
    }
   ],
   "source": [
    "df = read_gdp_w2020()\n",
    "df.head(2)"
   ]
  },
  {
   "cell_type": "markdown",
   "metadata": {},
   "source": [
    "#### Step 5: Predictions"
   ]
  },
  {
   "cell_type": "code",
   "execution_count": 11,
   "metadata": {},
   "outputs": [
    {
     "name": "stdout",
     "output_type": "stream",
     "text": [
      "[0.01960041]\n",
      "[0.04007696]\n",
      "[0.01932292]\n",
      "[0.03947991]\n"
     ]
    },
    {
     "data": {
      "text/html": [
       "<div>\n",
       "<style scoped>\n",
       "    .dataframe tbody tr th:only-of-type {\n",
       "        vertical-align: middle;\n",
       "    }\n",
       "\n",
       "    .dataframe tbody tr th {\n",
       "        vertical-align: top;\n",
       "    }\n",
       "\n",
       "    .dataframe thead th {\n",
       "        text-align: right;\n",
       "    }\n",
       "</style>\n",
       "<table border=\"1\" class=\"dataframe\">\n",
       "  <thead>\n",
       "    <tr style=\"text-align: right;\">\n",
       "      <th></th>\n",
       "      <th>iso2</th>\n",
       "      <th>country</th>\n",
       "      <th>year_quarter</th>\n",
       "      <th>GDP_2020USD</th>\n",
       "      <th>pred_GDP_2020USD</th>\n",
       "      <th>l_GDP_2020USD</th>\n",
       "      <th>pred_l_GDP_2020USD</th>\n",
       "      <th>pred_scenario</th>\n",
       "      <th>pct_error</th>\n",
       "      <th>model</th>\n",
       "    </tr>\n",
       "  </thead>\n",
       "  <tbody>\n",
       "    <tr>\n",
       "      <th>0</th>\n",
       "      <td>AL</td>\n",
       "      <td>Albania</td>\n",
       "      <td>2014Q1</td>\n",
       "      <td>2836.244461</td>\n",
       "      <td>2806.298509</td>\n",
       "      <td>7.950236</td>\n",
       "      <td>7.938819</td>\n",
       "      <td>no policy</td>\n",
       "      <td>-1.055831</td>\n",
       "      <td>policy only (policy sample)</td>\n",
       "    </tr>\n",
       "    <tr>\n",
       "      <th>0</th>\n",
       "      <td>AL</td>\n",
       "      <td>Albania</td>\n",
       "      <td>2014Q1</td>\n",
       "      <td>2836.244461</td>\n",
       "      <td>2804.584403</td>\n",
       "      <td>7.950236</td>\n",
       "      <td>7.938819</td>\n",
       "      <td>policy</td>\n",
       "      <td>-1.116267</td>\n",
       "      <td>policy only (policy sample)</td>\n",
       "    </tr>\n",
       "  </tbody>\n",
       "</table>\n",
       "</div>"
      ],
      "text/plain": [
       "  iso2  country year_quarter  GDP_2020USD  pred_GDP_2020USD  l_GDP_2020USD  \\\n",
       "0   AL  Albania       2014Q1  2836.244461       2806.298509       7.950236   \n",
       "0   AL  Albania       2014Q1  2836.244461       2804.584403       7.950236   \n",
       "\n",
       "   pred_l_GDP_2020USD pred_scenario  pct_error                        model  \n",
       "0            7.938819     no policy  -1.055831  policy only (policy sample)  \n",
       "0            7.938819        policy  -1.116267  policy only (policy sample)  "
      ]
     },
     "execution_count": 11,
     "metadata": {},
     "output_type": "execute_result"
    }
   ],
   "source": [
    "df_predict = predictions(df)\n",
    "df_predict.head(2)"
   ]
  },
  {
   "cell_type": "markdown",
   "metadata": {},
   "source": [
    "#### Step 6: Plots"
   ]
  },
  {
   "cell_type": "code",
   "execution_count": 12,
   "metadata": {},
   "outputs": [
    {
     "name": "stdout",
     "output_type": "stream",
     "text": [
      "12263118.807693912\n",
      "12263.11880769391\n"
     ]
    },
    {
     "data": {
      "image/png": "[encoded data removed]",
      "text/plain": [
       "<Figure size 864x288 with 1 Axes>"
      ]
     },
     "metadata": {},
     "output_type": "display_data"
    }
   ],
   "source": [
    "pred_actual_plot(df_predict, \n",
    "                 model='policy, cases and mobility (mobility sample)',\n",
    "                 region='World', plot_type='point')"
   ]
  },
  {
   "cell_type": "code",
   "execution_count": 13,
   "metadata": {},
   "outputs": [
    {
     "name": "stdout",
     "output_type": "stream",
     "text": [
      "12283222.228381274\n",
      "12283.222228381268\n"
     ]
    },
    {
     "data": {
      "image/png": "[encoded data removed]",
      "text/plain": [
       "<Figure size 864x288 with 1 Axes>"
      ]
     },
     "metadata": {},
     "output_type": "display_data"
    }
   ],
   "source": [
    "pred_actual_plot(df_predict, \n",
    "                 model='policy only (policy sample)',\n",
    "                 region='World', plot_type='point')"
   ]
  },
  {
   "cell_type": "markdown",
   "metadata": {},
   "source": [
    "--------"
   ]
  },
  {
   "cell_type": "markdown",
   "metadata": {},
   "source": [
    "#### Find total GDP in 2019"
   ]
  },
  {
   "cell_type": "code",
   "execution_count": 14,
   "metadata": {},
   "outputs": [
    {
     "data": {
      "text/plain": [
       "54080803.88685786"
      ]
     },
     "execution_count": 14,
     "metadata": {},
     "output_type": "execute_result"
    }
   ],
   "source": [
    "# keep only policy, cases and mobility sample\n",
    "temp = df_predict[df_predict.model=='policy only (policy sample)']\n",
    "\n",
    "# keep pred_scenario as 'policy'\n",
    "temp = temp[temp.pred_scenario=='no policy']\n",
    "\n",
    "# keep only 2020Q1 and Q2\n",
    "temp = temp[temp.year_quarter.isin(('2019Q1', '2019Q2', '2019Q3', '2019Q4'))]\n",
    "\n",
    "# look at GDP\n",
    "temp.GDP_2020USD.sum()"
   ]
  },
  {
   "cell_type": "markdown",
   "metadata": {},
   "source": [
    "#### Find lost GDP in 2020 Q1 and Q2"
   ]
  },
  {
   "cell_type": "markdown",
   "metadata": {},
   "source": [
    "```policy, cases, mobility sample```"
   ]
  },
  {
   "cell_type": "code",
   "execution_count": 15,
   "metadata": {},
   "outputs": [
    {
     "data": {
      "text/html": [
       "<div>\n",
       "<style scoped>\n",
       "    .dataframe tbody tr th:only-of-type {\n",
       "        vertical-align: middle;\n",
       "    }\n",
       "\n",
       "    .dataframe tbody tr th {\n",
       "        vertical-align: top;\n",
       "    }\n",
       "\n",
       "    .dataframe thead th {\n",
       "        text-align: right;\n",
       "    }\n",
       "</style>\n",
       "<table border=\"1\" class=\"dataframe\">\n",
       "  <thead>\n",
       "    <tr style=\"text-align: right;\">\n",
       "      <th></th>\n",
       "      <th>year_quarter</th>\n",
       "      <th>pred_scenario</th>\n",
       "      <th>pred_GDP_2020USD</th>\n",
       "    </tr>\n",
       "  </thead>\n",
       "  <tbody>\n",
       "    <tr>\n",
       "      <th>0</th>\n",
       "      <td>2020Q1</td>\n",
       "      <td>no policy (pred)</td>\n",
       "      <td>1.362431e+07</td>\n",
       "    </tr>\n",
       "    <tr>\n",
       "      <th>1</th>\n",
       "      <td>2020Q1</td>\n",
       "      <td>policy (actual)</td>\n",
       "      <td>1.321150e+07</td>\n",
       "    </tr>\n",
       "    <tr>\n",
       "      <th>2</th>\n",
       "      <td>2020Q1</td>\n",
       "      <td>policy (pred)</td>\n",
       "      <td>1.313289e+07</td>\n",
       "    </tr>\n",
       "    <tr>\n",
       "      <th>3</th>\n",
       "      <td>2020Q2</td>\n",
       "      <td>no policy (pred)</td>\n",
       "      <td>1.345385e+07</td>\n",
       "    </tr>\n",
       "    <tr>\n",
       "      <th>4</th>\n",
       "      <td>2020Q2</td>\n",
       "      <td>policy (actual)</td>\n",
       "      <td>1.083183e+07</td>\n",
       "    </tr>\n",
       "    <tr>\n",
       "      <th>5</th>\n",
       "      <td>2020Q2</td>\n",
       "      <td>policy (pred)</td>\n",
       "      <td>1.130331e+07</td>\n",
       "    </tr>\n",
       "  </tbody>\n",
       "</table>\n",
       "</div>"
      ],
      "text/plain": [
       "  year_quarter     pred_scenario  pred_GDP_2020USD\n",
       "0       2020Q1  no policy (pred)      1.362431e+07\n",
       "1       2020Q1   policy (actual)      1.321150e+07\n",
       "2       2020Q1     policy (pred)      1.313289e+07\n",
       "3       2020Q2  no policy (pred)      1.345385e+07\n",
       "4       2020Q2   policy (actual)      1.083183e+07\n",
       "5       2020Q2     policy (pred)      1.130331e+07"
      ]
     },
     "execution_count": 15,
     "metadata": {},
     "output_type": "execute_result"
    }
   ],
   "source": [
    "temp = helper_pred_plot(df_predict, model='policy, cases and mobility (mobility sample)', region='World', returning='mean')\n",
    "temp.sort_values(by=['year_quarter', 'pred_scenario'], inplace=True)\n",
    "temp = temp[temp.year_quarter.isin(('2020Q1', '2020Q2'))]\n",
    "temp.reset_index(drop=True, inplace=True)\n",
    "temp.head(30)"
   ]
  },
  {
   "cell_type": "code",
   "execution_count": 16,
   "metadata": {},
   "outputs": [
    {
     "data": {
      "text/html": [
       "<div>\n",
       "<style scoped>\n",
       "    .dataframe tbody tr th:only-of-type {\n",
       "        vertical-align: middle;\n",
       "    }\n",
       "\n",
       "    .dataframe tbody tr th {\n",
       "        vertical-align: top;\n",
       "    }\n",
       "\n",
       "    .dataframe thead th {\n",
       "        text-align: right;\n",
       "    }\n",
       "</style>\n",
       "<table border=\"1\" class=\"dataframe\">\n",
       "  <thead>\n",
       "    <tr style=\"text-align: right;\">\n",
       "      <th></th>\n",
       "      <th>2020Q1</th>\n",
       "      <th>2020Q2</th>\n",
       "    </tr>\n",
       "  </thead>\n",
       "  <tbody>\n",
       "    <tr>\n",
       "      <th>policy, cases and mobility (mobility sample)</th>\n",
       "      <td>491420</td>\n",
       "      <td>2150543</td>\n",
       "    </tr>\n",
       "  </tbody>\n",
       "</table>\n",
       "</div>"
      ],
      "text/plain": [
       "                                              2020Q1   2020Q2\n",
       "policy, cases and mobility (mobility sample)  491420  2150543"
      ]
     },
     "execution_count": 16,
     "metadata": {},
     "output_type": "execute_result"
    }
   ],
   "source": [
    "# compute difference between no_policy(predicted) and policy(pred) GDP\n",
    "\n",
    "temp = pd.DataFrame([temp.pred_GDP_2020USD[0] - temp.pred_GDP_2020USD[2],\n",
    "              temp.pred_GDP_2020USD[3] - temp.pred_GDP_2020USD[5]]).T\n",
    "\n",
    "temp.rename(columns={0:'2020Q1', 1:'2020Q2'}, inplace=True)\n",
    "temp['2020Q1'] = temp['2020Q1'].astype(int)\n",
    "temp['2020Q2'] = temp['2020Q2'].astype(int)\n",
    "temp.rename(index={0:'policy, cases and mobility (mobility sample)'}, inplace=True)\n",
    "\n",
    "temp.head()"
   ]
  },
  {
   "cell_type": "markdown",
   "metadata": {},
   "source": [
    "```policy only sample```"
   ]
  },
  {
   "cell_type": "code",
   "execution_count": 17,
   "metadata": {},
   "outputs": [
    {
     "data": {
      "text/html": [
       "<div>\n",
       "<style scoped>\n",
       "    .dataframe tbody tr th:only-of-type {\n",
       "        vertical-align: middle;\n",
       "    }\n",
       "\n",
       "    .dataframe tbody tr th {\n",
       "        vertical-align: top;\n",
       "    }\n",
       "\n",
       "    .dataframe thead th {\n",
       "        text-align: right;\n",
       "    }\n",
       "</style>\n",
       "<table border=\"1\" class=\"dataframe\">\n",
       "  <thead>\n",
       "    <tr style=\"text-align: right;\">\n",
       "      <th></th>\n",
       "      <th>year_quarter</th>\n",
       "      <th>pred_scenario</th>\n",
       "      <th>pred_GDP_2020USD</th>\n",
       "    </tr>\n",
       "  </thead>\n",
       "  <tbody>\n",
       "    <tr>\n",
       "      <th>0</th>\n",
       "      <td>2020Q1</td>\n",
       "      <td>no policy (pred)</td>\n",
       "      <td>1.362559e+07</td>\n",
       "    </tr>\n",
       "    <tr>\n",
       "      <th>1</th>\n",
       "      <td>2020Q1</td>\n",
       "      <td>policy (actual)</td>\n",
       "      <td>1.323105e+07</td>\n",
       "    </tr>\n",
       "    <tr>\n",
       "      <th>2</th>\n",
       "      <td>2020Q1</td>\n",
       "      <td>policy (pred)</td>\n",
       "      <td>1.317432e+07</td>\n",
       "    </tr>\n",
       "    <tr>\n",
       "      <th>3</th>\n",
       "      <td>2020Q2</td>\n",
       "      <td>no policy (pred)</td>\n",
       "      <td>1.351509e+07</td>\n",
       "    </tr>\n",
       "    <tr>\n",
       "      <th>4</th>\n",
       "      <td>2020Q2</td>\n",
       "      <td>policy (actual)</td>\n",
       "      <td>1.085134e+07</td>\n",
       "    </tr>\n",
       "    <tr>\n",
       "      <th>5</th>\n",
       "      <td>2020Q2</td>\n",
       "      <td>policy (pred)</td>\n",
       "      <td>1.128507e+07</td>\n",
       "    </tr>\n",
       "  </tbody>\n",
       "</table>\n",
       "</div>"
      ],
      "text/plain": [
       "  year_quarter     pred_scenario  pred_GDP_2020USD\n",
       "0       2020Q1  no policy (pred)      1.362559e+07\n",
       "1       2020Q1   policy (actual)      1.323105e+07\n",
       "2       2020Q1     policy (pred)      1.317432e+07\n",
       "3       2020Q2  no policy (pred)      1.351509e+07\n",
       "4       2020Q2   policy (actual)      1.085134e+07\n",
       "5       2020Q2     policy (pred)      1.128507e+07"
      ]
     },
     "execution_count": 17,
     "metadata": {},
     "output_type": "execute_result"
    }
   ],
   "source": [
    "temp1 = helper_pred_plot(df_predict, model='policy only (policy sample)', region='World', returning='mean')\n",
    "temp1.sort_values(by=['year_quarter', 'pred_scenario'], inplace=True)\n",
    "temp1 = temp1[temp1.year_quarter.isin(('2020Q1', '2020Q2'))]\n",
    "temp1.reset_index(drop=True, inplace=True)\n",
    "temp1.head(30)"
   ]
  },
  {
   "cell_type": "code",
   "execution_count": 18,
   "metadata": {},
   "outputs": [
    {
     "data": {
      "text/html": [
       "<div>\n",
       "<style scoped>\n",
       "    .dataframe tbody tr th:only-of-type {\n",
       "        vertical-align: middle;\n",
       "    }\n",
       "\n",
       "    .dataframe tbody tr th {\n",
       "        vertical-align: top;\n",
       "    }\n",
       "\n",
       "    .dataframe thead th {\n",
       "        text-align: right;\n",
       "    }\n",
       "</style>\n",
       "<table border=\"1\" class=\"dataframe\">\n",
       "  <thead>\n",
       "    <tr style=\"text-align: right;\">\n",
       "      <th></th>\n",
       "      <th>2020Q1</th>\n",
       "      <th>2020Q2</th>\n",
       "    </tr>\n",
       "  </thead>\n",
       "  <tbody>\n",
       "    <tr>\n",
       "      <th>policy only (policy sample)</th>\n",
       "      <td>451268</td>\n",
       "      <td>2230023</td>\n",
       "    </tr>\n",
       "  </tbody>\n",
       "</table>\n",
       "</div>"
      ],
      "text/plain": [
       "                             2020Q1   2020Q2\n",
       "policy only (policy sample)  451268  2230023"
      ]
     },
     "execution_count": 18,
     "metadata": {},
     "output_type": "execute_result"
    }
   ],
   "source": [
    "# compute difference between no_policy(predicted) and policy(pred) GDP\n",
    "\n",
    "temp1 = pd.DataFrame([temp1.pred_GDP_2020USD[0] - temp1.pred_GDP_2020USD[2],\n",
    "              temp1.pred_GDP_2020USD[3] - temp1.pred_GDP_2020USD[5]]).T\n",
    "\n",
    "temp1.rename(columns={0:'2020Q1', 1:'2020Q2'}, inplace=True)\n",
    "temp1['2020Q1'] = temp1['2020Q1'].astype(int)\n",
    "temp1['2020Q2'] = temp1['2020Q2'].astype(int)\n",
    "temp1.rename(index={0:'policy only (policy sample)'}, inplace=True)\n",
    "\n",
    "temp1.head()"
   ]
  },
  {
   "cell_type": "markdown",
   "metadata": {},
   "source": [
    "```concatenate results```"
   ]
  },
  {
   "cell_type": "code",
   "execution_count": 19,
   "metadata": {},
   "outputs": [
    {
     "data": {
      "text/html": [
       "<div>\n",
       "<style scoped>\n",
       "    .dataframe tbody tr th:only-of-type {\n",
       "        vertical-align: middle;\n",
       "    }\n",
       "\n",
       "    .dataframe tbody tr th {\n",
       "        vertical-align: top;\n",
       "    }\n",
       "\n",
       "    .dataframe thead th {\n",
       "        text-align: right;\n",
       "    }\n",
       "</style>\n",
       "<table border=\"1\" class=\"dataframe\">\n",
       "  <thead>\n",
       "    <tr style=\"text-align: right;\">\n",
       "      <th></th>\n",
       "      <th>2020Q1</th>\n",
       "      <th>2020Q2</th>\n",
       "    </tr>\n",
       "  </thead>\n",
       "  <tbody>\n",
       "    <tr>\n",
       "      <th>policy only (policy sample)</th>\n",
       "      <td>451268</td>\n",
       "      <td>2230023</td>\n",
       "    </tr>\n",
       "    <tr>\n",
       "      <th>policy, cases and mobility (mobility sample)</th>\n",
       "      <td>491420</td>\n",
       "      <td>2150543</td>\n",
       "    </tr>\n",
       "  </tbody>\n",
       "</table>\n",
       "</div>"
      ],
      "text/plain": [
       "                                              2020Q1   2020Q2\n",
       "policy only (policy sample)                   451268  2230023\n",
       "policy, cases and mobility (mobility sample)  491420  2150543"
      ]
     },
     "execution_count": 19,
     "metadata": {},
     "output_type": "execute_result"
    }
   ],
   "source": [
    "temp = pd.concat([temp1, temp], axis=0)\n",
    "temp.head()"
   ]
  },
  {
   "cell_type": "code",
   "execution_count": null,
   "metadata": {},
   "outputs": [],
   "source": []
  },
  {
   "cell_type": "code",
   "execution_count": null,
   "metadata": {},
   "outputs": [],
   "source": []
  }
 ],
 "metadata": {
  "kernelspec": {
   "display_name": "Python 3",
   "language": "python",
   "name": "python3"
  },
  "language_info": {
   "codemirror_mode": {
    "name": "ipython",
    "version": 3
   },
   "file_extension": ".py",
   "mimetype": "text/x-python",
   "name": "python",
   "nbconvert_exporter": "python",
   "pygments_lexer": "ipython3",
   "version": "3.8.3"
  }
 },
 "nbformat": 4,
 "nbformat_minor": 4
}
